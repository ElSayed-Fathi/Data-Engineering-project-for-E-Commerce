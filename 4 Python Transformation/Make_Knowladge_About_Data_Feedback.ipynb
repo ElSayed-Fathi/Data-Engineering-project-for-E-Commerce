{
 "cells": [
  {
   "cell_type": "markdown",
   "id": "95f0a494",
   "metadata": {},
   "source": [
    "# Exploratory  Data"
   ]
  },
  {
   "cell_type": "code",
   "execution_count": 2,
   "id": "aa85a955",
   "metadata": {},
   "outputs": [],
   "source": [
    "import pandas as pd"
   ]
  },
  {
   "cell_type": "code",
   "execution_count": 3,
   "id": "57193b55",
   "metadata": {},
   "outputs": [],
   "source": [
    "df = pd.read_csv('feedback_dataset.csv')"
   ]
  },
  {
   "cell_type": "code",
   "execution_count": 4,
   "id": "84a472c9",
   "metadata": {},
   "outputs": [
    {
     "data": {
      "text/html": [
       "<div>\n",
       "<style scoped>\n",
       "    .dataframe tbody tr th:only-of-type {\n",
       "        vertical-align: middle;\n",
       "    }\n",
       "\n",
       "    .dataframe tbody tr th {\n",
       "        vertical-align: top;\n",
       "    }\n",
       "\n",
       "    .dataframe thead th {\n",
       "        text-align: right;\n",
       "    }\n",
       "</style>\n",
       "<table border=\"1\" class=\"dataframe\">\n",
       "  <thead>\n",
       "    <tr style=\"text-align: right;\">\n",
       "      <th></th>\n",
       "      <th>feedback_id</th>\n",
       "      <th>order_id</th>\n",
       "      <th>feedback_score</th>\n",
       "      <th>feedback_form_sent_date</th>\n",
       "      <th>feedback_answer_date</th>\n",
       "    </tr>\n",
       "  </thead>\n",
       "  <tbody>\n",
       "    <tr>\n",
       "      <th>0</th>\n",
       "      <td>7bc2406110b926393aa56f80a40eba40</td>\n",
       "      <td>73fc7af87114b39712e6da79b0a377eb</td>\n",
       "      <td>4</td>\n",
       "      <td>2018-01-18 00:00:00</td>\n",
       "      <td>2018-01-18 21:46:59</td>\n",
       "    </tr>\n",
       "    <tr>\n",
       "      <th>1</th>\n",
       "      <td>80e641a11e56f04c1ad469d5645fdfde</td>\n",
       "      <td>a548910a1c6147796b98fdf73dbeba33</td>\n",
       "      <td>5</td>\n",
       "      <td>2018-03-10 00:00:00</td>\n",
       "      <td>2018-03-11 03:05:13</td>\n",
       "    </tr>\n",
       "    <tr>\n",
       "      <th>2</th>\n",
       "      <td>228ce5500dc1d8e020d8d1322874b6f0</td>\n",
       "      <td>f9e4b658b201a9f2ecdecbb34bed034b</td>\n",
       "      <td>5</td>\n",
       "      <td>2018-02-17 00:00:00</td>\n",
       "      <td>2018-02-18 14:36:24</td>\n",
       "    </tr>\n",
       "    <tr>\n",
       "      <th>3</th>\n",
       "      <td>e64fb393e7b32834bb789ff8bb30750e</td>\n",
       "      <td>658677c97b385a9be170737859d3511b</td>\n",
       "      <td>5</td>\n",
       "      <td>2017-04-21 00:00:00</td>\n",
       "      <td>2017-04-21 22:02:06</td>\n",
       "    </tr>\n",
       "    <tr>\n",
       "      <th>4</th>\n",
       "      <td>f7c4243c7fe1938f181bec41a392bdeb</td>\n",
       "      <td>8e6bfb81e283fa7e4f11123a3fb894f1</td>\n",
       "      <td>5</td>\n",
       "      <td>2018-03-01 00:00:00</td>\n",
       "      <td>2018-03-02 10:26:53</td>\n",
       "    </tr>\n",
       "  </tbody>\n",
       "</table>\n",
       "</div>"
      ],
      "text/plain": [
       "                        feedback_id                          order_id  \\\n",
       "0  7bc2406110b926393aa56f80a40eba40  73fc7af87114b39712e6da79b0a377eb   \n",
       "1  80e641a11e56f04c1ad469d5645fdfde  a548910a1c6147796b98fdf73dbeba33   \n",
       "2  228ce5500dc1d8e020d8d1322874b6f0  f9e4b658b201a9f2ecdecbb34bed034b   \n",
       "3  e64fb393e7b32834bb789ff8bb30750e  658677c97b385a9be170737859d3511b   \n",
       "4  f7c4243c7fe1938f181bec41a392bdeb  8e6bfb81e283fa7e4f11123a3fb894f1   \n",
       "\n",
       "   feedback_score feedback_form_sent_date feedback_answer_date  \n",
       "0               4     2018-01-18 00:00:00  2018-01-18 21:46:59  \n",
       "1               5     2018-03-10 00:00:00  2018-03-11 03:05:13  \n",
       "2               5     2018-02-17 00:00:00  2018-02-18 14:36:24  \n",
       "3               5     2017-04-21 00:00:00  2017-04-21 22:02:06  \n",
       "4               5     2018-03-01 00:00:00  2018-03-02 10:26:53  "
      ]
     },
     "execution_count": 4,
     "metadata": {},
     "output_type": "execute_result"
    }
   ],
   "source": [
    "df.head()"
   ]
  },
  {
   "cell_type": "code",
   "execution_count": 5,
   "id": "bbbb96cd",
   "metadata": {},
   "outputs": [
    {
     "data": {
      "text/html": [
       "<div>\n",
       "<style scoped>\n",
       "    .dataframe tbody tr th:only-of-type {\n",
       "        vertical-align: middle;\n",
       "    }\n",
       "\n",
       "    .dataframe tbody tr th {\n",
       "        vertical-align: top;\n",
       "    }\n",
       "\n",
       "    .dataframe thead th {\n",
       "        text-align: right;\n",
       "    }\n",
       "</style>\n",
       "<table border=\"1\" class=\"dataframe\">\n",
       "  <thead>\n",
       "    <tr style=\"text-align: right;\">\n",
       "      <th></th>\n",
       "      <th>feedback_id</th>\n",
       "      <th>order_id</th>\n",
       "      <th>feedback_form_sent_date</th>\n",
       "      <th>feedback_answer_date</th>\n",
       "    </tr>\n",
       "  </thead>\n",
       "  <tbody>\n",
       "    <tr>\n",
       "      <th>count</th>\n",
       "      <td>100000</td>\n",
       "      <td>100000</td>\n",
       "      <td>100000</td>\n",
       "      <td>100000</td>\n",
       "    </tr>\n",
       "    <tr>\n",
       "      <th>unique</th>\n",
       "      <td>99173</td>\n",
       "      <td>99441</td>\n",
       "      <td>637</td>\n",
       "      <td>99010</td>\n",
       "    </tr>\n",
       "    <tr>\n",
       "      <th>top</th>\n",
       "      <td>2172867fd5b1a55f98fe4608e1547b4b</td>\n",
       "      <td>03c939fd7fd3b38f8485a0f95798f1f6</td>\n",
       "      <td>2017-12-19 00:00:00</td>\n",
       "      <td>2017-06-15 23:21:05</td>\n",
       "    </tr>\n",
       "    <tr>\n",
       "      <th>freq</th>\n",
       "      <td>3</td>\n",
       "      <td>3</td>\n",
       "      <td>466</td>\n",
       "      <td>4</td>\n",
       "    </tr>\n",
       "  </tbody>\n",
       "</table>\n",
       "</div>"
      ],
      "text/plain": [
       "                             feedback_id                          order_id  \\\n",
       "count                             100000                            100000   \n",
       "unique                             99173                             99441   \n",
       "top     2172867fd5b1a55f98fe4608e1547b4b  03c939fd7fd3b38f8485a0f95798f1f6   \n",
       "freq                                   3                                 3   \n",
       "\n",
       "       feedback_form_sent_date feedback_answer_date  \n",
       "count                   100000               100000  \n",
       "unique                     637                99010  \n",
       "top        2017-12-19 00:00:00  2017-06-15 23:21:05  \n",
       "freq                       466                    4  "
      ]
     },
     "execution_count": 5,
     "metadata": {},
     "output_type": "execute_result"
    }
   ],
   "source": [
    "df.describe(include=object)\n",
    "#string values"
   ]
  },
  {
   "cell_type": "code",
   "execution_count": 6,
   "id": "d7028398",
   "metadata": {},
   "outputs": [
    {
     "data": {
      "text/html": [
       "<div>\n",
       "<style scoped>\n",
       "    .dataframe tbody tr th:only-of-type {\n",
       "        vertical-align: middle;\n",
       "    }\n",
       "\n",
       "    .dataframe tbody tr th {\n",
       "        vertical-align: top;\n",
       "    }\n",
       "\n",
       "    .dataframe thead th {\n",
       "        text-align: right;\n",
       "    }\n",
       "</style>\n",
       "<table border=\"1\" class=\"dataframe\">\n",
       "  <thead>\n",
       "    <tr style=\"text-align: right;\">\n",
       "      <th></th>\n",
       "      <th>feedback_score</th>\n",
       "    </tr>\n",
       "  </thead>\n",
       "  <tbody>\n",
       "    <tr>\n",
       "      <th>count</th>\n",
       "      <td>100000.000000</td>\n",
       "    </tr>\n",
       "    <tr>\n",
       "      <th>mean</th>\n",
       "      <td>4.070890</td>\n",
       "    </tr>\n",
       "    <tr>\n",
       "      <th>std</th>\n",
       "      <td>1.359663</td>\n",
       "    </tr>\n",
       "    <tr>\n",
       "      <th>min</th>\n",
       "      <td>1.000000</td>\n",
       "    </tr>\n",
       "    <tr>\n",
       "      <th>25%</th>\n",
       "      <td>4.000000</td>\n",
       "    </tr>\n",
       "    <tr>\n",
       "      <th>50%</th>\n",
       "      <td>5.000000</td>\n",
       "    </tr>\n",
       "    <tr>\n",
       "      <th>75%</th>\n",
       "      <td>5.000000</td>\n",
       "    </tr>\n",
       "    <tr>\n",
       "      <th>max</th>\n",
       "      <td>5.000000</td>\n",
       "    </tr>\n",
       "  </tbody>\n",
       "</table>\n",
       "</div>"
      ],
      "text/plain": [
       "       feedback_score\n",
       "count   100000.000000\n",
       "mean         4.070890\n",
       "std          1.359663\n",
       "min          1.000000\n",
       "25%          4.000000\n",
       "50%          5.000000\n",
       "75%          5.000000\n",
       "max          5.000000"
      ]
     },
     "execution_count": 6,
     "metadata": {},
     "output_type": "execute_result"
    }
   ],
   "source": [
    "df.describe()\n",
    "#the only numeric values"
   ]
  },
  {
   "cell_type": "code",
   "execution_count": 7,
   "id": "0f7497ca",
   "metadata": {},
   "outputs": [
    {
     "data": {
      "text/plain": [
       "pandas.core.frame.DataFrame"
      ]
     },
     "execution_count": 7,
     "metadata": {},
     "output_type": "execute_result"
    }
   ],
   "source": [
    "type(df)"
   ]
  },
  {
   "cell_type": "code",
   "execution_count": 8,
   "id": "9ae8a806",
   "metadata": {},
   "outputs": [
    {
     "data": {
      "text/plain": [
       "(100000, 5)"
      ]
     },
     "execution_count": 8,
     "metadata": {},
     "output_type": "execute_result"
    }
   ],
   "source": [
    "df.shape\n",
    "# (rows,columns)"
   ]
  },
  {
   "cell_type": "code",
   "execution_count": 9,
   "id": "41f8b320",
   "metadata": {},
   "outputs": [
    {
     "data": {
      "text/plain": [
       "100000"
      ]
     },
     "execution_count": 9,
     "metadata": {},
     "output_type": "execute_result"
    }
   ],
   "source": [
    "len(df)\n",
    "#number of rows"
   ]
  },
  {
   "cell_type": "code",
   "execution_count": 10,
   "id": "afb910bd",
   "metadata": {},
   "outputs": [
    {
     "data": {
      "text/html": [
       "<div>\n",
       "<style scoped>\n",
       "    .dataframe tbody tr th:only-of-type {\n",
       "        vertical-align: middle;\n",
       "    }\n",
       "\n",
       "    .dataframe tbody tr th {\n",
       "        vertical-align: top;\n",
       "    }\n",
       "\n",
       "    .dataframe thead th {\n",
       "        text-align: right;\n",
       "    }\n",
       "</style>\n",
       "<table border=\"1\" class=\"dataframe\">\n",
       "  <thead>\n",
       "    <tr style=\"text-align: right;\">\n",
       "      <th></th>\n",
       "      <th>feedback_id</th>\n",
       "      <th>order_id</th>\n",
       "      <th>feedback_score</th>\n",
       "      <th>feedback_form_sent_date</th>\n",
       "      <th>feedback_answer_date</th>\n",
       "    </tr>\n",
       "  </thead>\n",
       "  <tbody>\n",
       "    <tr>\n",
       "      <th>99995</th>\n",
       "      <td>f3897127253a9592a73be9bdfdf4ed7a</td>\n",
       "      <td>22ec9f0669f784db00fa86d035cf8602</td>\n",
       "      <td>5</td>\n",
       "      <td>2017-12-09 00:00:00</td>\n",
       "      <td>2017-12-11 20:06:42</td>\n",
       "    </tr>\n",
       "    <tr>\n",
       "      <th>99996</th>\n",
       "      <td>b3de70c89b1510c4cd3d0649fd302472</td>\n",
       "      <td>55d4004744368f5571d1f590031933e4</td>\n",
       "      <td>5</td>\n",
       "      <td>2018-03-22 00:00:00</td>\n",
       "      <td>2018-03-23 09:10:43</td>\n",
       "    </tr>\n",
       "    <tr>\n",
       "      <th>99997</th>\n",
       "      <td>1adeb9d84d72fe4e337617733eb85149</td>\n",
       "      <td>7725825d039fc1f0ceb7635e3f7d9206</td>\n",
       "      <td>4</td>\n",
       "      <td>2018-07-01 00:00:00</td>\n",
       "      <td>2018-07-02 12:59:13</td>\n",
       "    </tr>\n",
       "    <tr>\n",
       "      <th>99998</th>\n",
       "      <td>be360f18f5df1e0541061c87021e6d93</td>\n",
       "      <td>f8bd3f2000c28c5342fedeb5e50f2e75</td>\n",
       "      <td>1</td>\n",
       "      <td>2017-12-15 00:00:00</td>\n",
       "      <td>2017-12-16 01:29:43</td>\n",
       "    </tr>\n",
       "    <tr>\n",
       "      <th>99999</th>\n",
       "      <td>efe49f1d6f951dd88b51e6ccd4cc548f</td>\n",
       "      <td>90531360ecb1eec2a1fbb265a0db0508</td>\n",
       "      <td>1</td>\n",
       "      <td>2017-07-03 00:00:00</td>\n",
       "      <td>2017-07-03 21:01:49</td>\n",
       "    </tr>\n",
       "  </tbody>\n",
       "</table>\n",
       "</div>"
      ],
      "text/plain": [
       "                            feedback_id                          order_id  \\\n",
       "99995  f3897127253a9592a73be9bdfdf4ed7a  22ec9f0669f784db00fa86d035cf8602   \n",
       "99996  b3de70c89b1510c4cd3d0649fd302472  55d4004744368f5571d1f590031933e4   \n",
       "99997  1adeb9d84d72fe4e337617733eb85149  7725825d039fc1f0ceb7635e3f7d9206   \n",
       "99998  be360f18f5df1e0541061c87021e6d93  f8bd3f2000c28c5342fedeb5e50f2e75   \n",
       "99999  efe49f1d6f951dd88b51e6ccd4cc548f  90531360ecb1eec2a1fbb265a0db0508   \n",
       "\n",
       "       feedback_score feedback_form_sent_date feedback_answer_date  \n",
       "99995               5     2017-12-09 00:00:00  2017-12-11 20:06:42  \n",
       "99996               5     2018-03-22 00:00:00  2018-03-23 09:10:43  \n",
       "99997               4     2018-07-01 00:00:00  2018-07-02 12:59:13  \n",
       "99998               1     2017-12-15 00:00:00  2017-12-16 01:29:43  \n",
       "99999               1     2017-07-03 00:00:00  2017-07-03 21:01:49  "
      ]
     },
     "execution_count": 10,
     "metadata": {},
     "output_type": "execute_result"
    }
   ],
   "source": [
    "df.tail()"
   ]
  },
  {
   "cell_type": "code",
   "execution_count": 11,
   "id": "f15e90af",
   "metadata": {},
   "outputs": [
    {
     "name": "stdout",
     "output_type": "stream",
     "text": [
      "<class 'pandas.core.frame.DataFrame'>\n",
      "RangeIndex: 100000 entries, 0 to 99999\n",
      "Data columns (total 5 columns):\n",
      " #   Column                   Non-Null Count   Dtype \n",
      "---  ------                   --------------   ----- \n",
      " 0   feedback_id              100000 non-null  object\n",
      " 1   order_id                 100000 non-null  object\n",
      " 2   feedback_score           100000 non-null  int64 \n",
      " 3   feedback_form_sent_date  100000 non-null  object\n",
      " 4   feedback_answer_date     100000 non-null  object\n",
      "dtypes: int64(1), object(4)\n",
      "memory usage: 3.8+ MB\n"
     ]
    }
   ],
   "source": [
    "df.info()"
   ]
  },
  {
   "cell_type": "code",
   "execution_count": 12,
   "id": "325723f9",
   "metadata": {},
   "outputs": [
    {
     "data": {
      "text/html": [
       "<div>\n",
       "<style scoped>\n",
       "    .dataframe tbody tr th:only-of-type {\n",
       "        vertical-align: middle;\n",
       "    }\n",
       "\n",
       "    .dataframe tbody tr th {\n",
       "        vertical-align: top;\n",
       "    }\n",
       "\n",
       "    .dataframe thead th {\n",
       "        text-align: right;\n",
       "    }\n",
       "</style>\n",
       "<table border=\"1\" class=\"dataframe\">\n",
       "  <thead>\n",
       "    <tr style=\"text-align: right;\">\n",
       "      <th></th>\n",
       "      <th>feedback_id</th>\n",
       "      <th>order_id</th>\n",
       "      <th>feedback_score</th>\n",
       "      <th>feedback_form_sent_date</th>\n",
       "      <th>feedback_answer_date</th>\n",
       "    </tr>\n",
       "  </thead>\n",
       "  <tbody>\n",
       "    <tr>\n",
       "      <th>0</th>\n",
       "      <td>True</td>\n",
       "      <td>True</td>\n",
       "      <td>True</td>\n",
       "      <td>True</td>\n",
       "      <td>True</td>\n",
       "    </tr>\n",
       "    <tr>\n",
       "      <th>1</th>\n",
       "      <td>True</td>\n",
       "      <td>True</td>\n",
       "      <td>True</td>\n",
       "      <td>True</td>\n",
       "      <td>True</td>\n",
       "    </tr>\n",
       "    <tr>\n",
       "      <th>2</th>\n",
       "      <td>True</td>\n",
       "      <td>True</td>\n",
       "      <td>True</td>\n",
       "      <td>True</td>\n",
       "      <td>True</td>\n",
       "    </tr>\n",
       "    <tr>\n",
       "      <th>3</th>\n",
       "      <td>True</td>\n",
       "      <td>True</td>\n",
       "      <td>True</td>\n",
       "      <td>True</td>\n",
       "      <td>True</td>\n",
       "    </tr>\n",
       "    <tr>\n",
       "      <th>4</th>\n",
       "      <td>True</td>\n",
       "      <td>True</td>\n",
       "      <td>True</td>\n",
       "      <td>True</td>\n",
       "      <td>True</td>\n",
       "    </tr>\n",
       "    <tr>\n",
       "      <th>...</th>\n",
       "      <td>...</td>\n",
       "      <td>...</td>\n",
       "      <td>...</td>\n",
       "      <td>...</td>\n",
       "      <td>...</td>\n",
       "    </tr>\n",
       "    <tr>\n",
       "      <th>99995</th>\n",
       "      <td>True</td>\n",
       "      <td>True</td>\n",
       "      <td>True</td>\n",
       "      <td>True</td>\n",
       "      <td>True</td>\n",
       "    </tr>\n",
       "    <tr>\n",
       "      <th>99996</th>\n",
       "      <td>True</td>\n",
       "      <td>True</td>\n",
       "      <td>True</td>\n",
       "      <td>True</td>\n",
       "      <td>True</td>\n",
       "    </tr>\n",
       "    <tr>\n",
       "      <th>99997</th>\n",
       "      <td>True</td>\n",
       "      <td>True</td>\n",
       "      <td>True</td>\n",
       "      <td>True</td>\n",
       "      <td>True</td>\n",
       "    </tr>\n",
       "    <tr>\n",
       "      <th>99998</th>\n",
       "      <td>True</td>\n",
       "      <td>True</td>\n",
       "      <td>True</td>\n",
       "      <td>True</td>\n",
       "      <td>True</td>\n",
       "    </tr>\n",
       "    <tr>\n",
       "      <th>99999</th>\n",
       "      <td>True</td>\n",
       "      <td>True</td>\n",
       "      <td>True</td>\n",
       "      <td>True</td>\n",
       "      <td>True</td>\n",
       "    </tr>\n",
       "  </tbody>\n",
       "</table>\n",
       "<p>100000 rows × 5 columns</p>\n",
       "</div>"
      ],
      "text/plain": [
       "       feedback_id  order_id  feedback_score  feedback_form_sent_date  \\\n",
       "0             True      True            True                     True   \n",
       "1             True      True            True                     True   \n",
       "2             True      True            True                     True   \n",
       "3             True      True            True                     True   \n",
       "4             True      True            True                     True   \n",
       "...            ...       ...             ...                      ...   \n",
       "99995         True      True            True                     True   \n",
       "99996         True      True            True                     True   \n",
       "99997         True      True            True                     True   \n",
       "99998         True      True            True                     True   \n",
       "99999         True      True            True                     True   \n",
       "\n",
       "       feedback_answer_date  \n",
       "0                      True  \n",
       "1                      True  \n",
       "2                      True  \n",
       "3                      True  \n",
       "4                      True  \n",
       "...                     ...  \n",
       "99995                  True  \n",
       "99996                  True  \n",
       "99997                  True  \n",
       "99998                  True  \n",
       "99999                  True  \n",
       "\n",
       "[100000 rows x 5 columns]"
      ]
     },
     "execution_count": 12,
     "metadata": {},
     "output_type": "execute_result"
    }
   ],
   "source": [
    "df.notnull()"
   ]
  },
  {
   "cell_type": "markdown",
   "id": "c70e6281",
   "metadata": {},
   "source": [
    "#  Data Transformation"
   ]
  },
  {
   "cell_type": "code",
   "execution_count": 13,
   "id": "6aebd498",
   "metadata": {},
   "outputs": [
    {
     "data": {
      "text/plain": [
       "32"
      ]
     },
     "execution_count": 13,
     "metadata": {},
     "output_type": "execute_result"
    }
   ],
   "source": [
    "# length of cell i user_name column\n",
    "len(df.at[0, 'feedback_id'])"
   ]
  },
  {
   "cell_type": "code",
   "execution_count": 14,
   "id": "6699f19c",
   "metadata": {},
   "outputs": [
    {
     "data": {
      "text/plain": [
       "32"
      ]
     },
     "execution_count": 14,
     "metadata": {},
     "output_type": "execute_result"
    }
   ],
   "source": [
    "len(df.at[0, 'order_id'])"
   ]
  },
  {
   "cell_type": "code",
   "execution_count": 18,
   "id": "18fb3df3",
   "metadata": {},
   "outputs": [],
   "source": [
    "#Convert the 'feedback_form_sent_date' column from object to string\n",
    "#df['feedback_form_sent_date'] = pd.to_datetime(df['feedback_form_sent_date'])\n",
    "df['feedback_form_sent_date'] = df['feedback_form_sent_date'].astype(\"string\")"
   ]
  },
  {
   "cell_type": "code",
   "execution_count": 19,
   "id": "1ec05b53",
   "metadata": {},
   "outputs": [],
   "source": [
    "#df['feedback_answer_date'] = pd.to_datetime(df['feedback_answer_date'])\n",
    "df['feedback_answer_date'] = df['feedback_answer_date'].astype(\"string\")"
   ]
  },
  {
   "cell_type": "code",
   "execution_count": 20,
   "id": "99e5932e",
   "metadata": {},
   "outputs": [],
   "source": [
    "# Split the 'feedback_form_sent_date' column into two columns: 'feedback_sent_full_date' and 'feedback_sent_time'\n",
    "df[['feedback_sent_full_date', 'feedback_sent_time']] = df['feedback_form_sent_date'].str.split(' ', expand=True)"
   ]
  },
  {
   "cell_type": "code",
   "execution_count": 21,
   "id": "30d8f8fa",
   "metadata": {},
   "outputs": [
    {
     "data": {
      "text/html": [
       "<div>\n",
       "<style scoped>\n",
       "    .dataframe tbody tr th:only-of-type {\n",
       "        vertical-align: middle;\n",
       "    }\n",
       "\n",
       "    .dataframe tbody tr th {\n",
       "        vertical-align: top;\n",
       "    }\n",
       "\n",
       "    .dataframe thead th {\n",
       "        text-align: right;\n",
       "    }\n",
       "</style>\n",
       "<table border=\"1\" class=\"dataframe\">\n",
       "  <thead>\n",
       "    <tr style=\"text-align: right;\">\n",
       "      <th></th>\n",
       "      <th>feedback_id</th>\n",
       "      <th>order_id</th>\n",
       "      <th>feedback_score</th>\n",
       "      <th>feedback_form_sent_date</th>\n",
       "      <th>feedback_answer_date</th>\n",
       "      <th>feedback_sent_full_date</th>\n",
       "      <th>feedback_sent_time</th>\n",
       "    </tr>\n",
       "  </thead>\n",
       "  <tbody>\n",
       "    <tr>\n",
       "      <th>0</th>\n",
       "      <td>7bc2406110b926393aa56f80a40eba40</td>\n",
       "      <td>73fc7af87114b39712e6da79b0a377eb</td>\n",
       "      <td>4</td>\n",
       "      <td>2018-01-18 00:00:00</td>\n",
       "      <td>2018-01-18 21:46:59</td>\n",
       "      <td>2018-01-18</td>\n",
       "      <td>00:00:00</td>\n",
       "    </tr>\n",
       "    <tr>\n",
       "      <th>1</th>\n",
       "      <td>80e641a11e56f04c1ad469d5645fdfde</td>\n",
       "      <td>a548910a1c6147796b98fdf73dbeba33</td>\n",
       "      <td>5</td>\n",
       "      <td>2018-03-10 00:00:00</td>\n",
       "      <td>2018-03-11 03:05:13</td>\n",
       "      <td>2018-03-10</td>\n",
       "      <td>00:00:00</td>\n",
       "    </tr>\n",
       "    <tr>\n",
       "      <th>2</th>\n",
       "      <td>228ce5500dc1d8e020d8d1322874b6f0</td>\n",
       "      <td>f9e4b658b201a9f2ecdecbb34bed034b</td>\n",
       "      <td>5</td>\n",
       "      <td>2018-02-17 00:00:00</td>\n",
       "      <td>2018-02-18 14:36:24</td>\n",
       "      <td>2018-02-17</td>\n",
       "      <td>00:00:00</td>\n",
       "    </tr>\n",
       "    <tr>\n",
       "      <th>3</th>\n",
       "      <td>e64fb393e7b32834bb789ff8bb30750e</td>\n",
       "      <td>658677c97b385a9be170737859d3511b</td>\n",
       "      <td>5</td>\n",
       "      <td>2017-04-21 00:00:00</td>\n",
       "      <td>2017-04-21 22:02:06</td>\n",
       "      <td>2017-04-21</td>\n",
       "      <td>00:00:00</td>\n",
       "    </tr>\n",
       "    <tr>\n",
       "      <th>4</th>\n",
       "      <td>f7c4243c7fe1938f181bec41a392bdeb</td>\n",
       "      <td>8e6bfb81e283fa7e4f11123a3fb894f1</td>\n",
       "      <td>5</td>\n",
       "      <td>2018-03-01 00:00:00</td>\n",
       "      <td>2018-03-02 10:26:53</td>\n",
       "      <td>2018-03-01</td>\n",
       "      <td>00:00:00</td>\n",
       "    </tr>\n",
       "  </tbody>\n",
       "</table>\n",
       "</div>"
      ],
      "text/plain": [
       "                        feedback_id                          order_id  \\\n",
       "0  7bc2406110b926393aa56f80a40eba40  73fc7af87114b39712e6da79b0a377eb   \n",
       "1  80e641a11e56f04c1ad469d5645fdfde  a548910a1c6147796b98fdf73dbeba33   \n",
       "2  228ce5500dc1d8e020d8d1322874b6f0  f9e4b658b201a9f2ecdecbb34bed034b   \n",
       "3  e64fb393e7b32834bb789ff8bb30750e  658677c97b385a9be170737859d3511b   \n",
       "4  f7c4243c7fe1938f181bec41a392bdeb  8e6bfb81e283fa7e4f11123a3fb894f1   \n",
       "\n",
       "   feedback_score feedback_form_sent_date feedback_answer_date  \\\n",
       "0               4     2018-01-18 00:00:00  2018-01-18 21:46:59   \n",
       "1               5     2018-03-10 00:00:00  2018-03-11 03:05:13   \n",
       "2               5     2018-02-17 00:00:00  2018-02-18 14:36:24   \n",
       "3               5     2017-04-21 00:00:00  2017-04-21 22:02:06   \n",
       "4               5     2018-03-01 00:00:00  2018-03-02 10:26:53   \n",
       "\n",
       "  feedback_sent_full_date feedback_sent_time  \n",
       "0              2018-01-18           00:00:00  \n",
       "1              2018-03-10           00:00:00  \n",
       "2              2018-02-17           00:00:00  \n",
       "3              2017-04-21           00:00:00  \n",
       "4              2018-03-01           00:00:00  "
      ]
     },
     "execution_count": 21,
     "metadata": {},
     "output_type": "execute_result"
    }
   ],
   "source": [
    "df.head()"
   ]
  },
  {
   "cell_type": "code",
   "execution_count": 22,
   "id": "b3462f34",
   "metadata": {},
   "outputs": [],
   "source": [
    "# Split the 'feedback_answer_date' column into two columns: 'feedback_answer_full_date' and 'feedback_answer_time'\n",
    "df[['feedback_answer_full_date', 'feedback_answer_time']] = df['feedback_answer_date'].str.split(' ', expand=True)"
   ]
  },
  {
   "cell_type": "code",
   "execution_count": 23,
   "id": "aae78a03",
   "metadata": {},
   "outputs": [
    {
     "data": {
      "text/html": [
       "<div>\n",
       "<style scoped>\n",
       "    .dataframe tbody tr th:only-of-type {\n",
       "        vertical-align: middle;\n",
       "    }\n",
       "\n",
       "    .dataframe tbody tr th {\n",
       "        vertical-align: top;\n",
       "    }\n",
       "\n",
       "    .dataframe thead th {\n",
       "        text-align: right;\n",
       "    }\n",
       "</style>\n",
       "<table border=\"1\" class=\"dataframe\">\n",
       "  <thead>\n",
       "    <tr style=\"text-align: right;\">\n",
       "      <th></th>\n",
       "      <th>feedback_id</th>\n",
       "      <th>order_id</th>\n",
       "      <th>feedback_score</th>\n",
       "      <th>feedback_form_sent_date</th>\n",
       "      <th>feedback_answer_date</th>\n",
       "      <th>feedback_sent_full_date</th>\n",
       "      <th>feedback_sent_time</th>\n",
       "      <th>feedback_answer_full_date</th>\n",
       "      <th>feedback_answer_time</th>\n",
       "    </tr>\n",
       "  </thead>\n",
       "  <tbody>\n",
       "    <tr>\n",
       "      <th>0</th>\n",
       "      <td>7bc2406110b926393aa56f80a40eba40</td>\n",
       "      <td>73fc7af87114b39712e6da79b0a377eb</td>\n",
       "      <td>4</td>\n",
       "      <td>2018-01-18 00:00:00</td>\n",
       "      <td>2018-01-18 21:46:59</td>\n",
       "      <td>2018-01-18</td>\n",
       "      <td>00:00:00</td>\n",
       "      <td>2018-01-18</td>\n",
       "      <td>21:46:59</td>\n",
       "    </tr>\n",
       "    <tr>\n",
       "      <th>1</th>\n",
       "      <td>80e641a11e56f04c1ad469d5645fdfde</td>\n",
       "      <td>a548910a1c6147796b98fdf73dbeba33</td>\n",
       "      <td>5</td>\n",
       "      <td>2018-03-10 00:00:00</td>\n",
       "      <td>2018-03-11 03:05:13</td>\n",
       "      <td>2018-03-10</td>\n",
       "      <td>00:00:00</td>\n",
       "      <td>2018-03-11</td>\n",
       "      <td>03:05:13</td>\n",
       "    </tr>\n",
       "    <tr>\n",
       "      <th>2</th>\n",
       "      <td>228ce5500dc1d8e020d8d1322874b6f0</td>\n",
       "      <td>f9e4b658b201a9f2ecdecbb34bed034b</td>\n",
       "      <td>5</td>\n",
       "      <td>2018-02-17 00:00:00</td>\n",
       "      <td>2018-02-18 14:36:24</td>\n",
       "      <td>2018-02-17</td>\n",
       "      <td>00:00:00</td>\n",
       "      <td>2018-02-18</td>\n",
       "      <td>14:36:24</td>\n",
       "    </tr>\n",
       "    <tr>\n",
       "      <th>3</th>\n",
       "      <td>e64fb393e7b32834bb789ff8bb30750e</td>\n",
       "      <td>658677c97b385a9be170737859d3511b</td>\n",
       "      <td>5</td>\n",
       "      <td>2017-04-21 00:00:00</td>\n",
       "      <td>2017-04-21 22:02:06</td>\n",
       "      <td>2017-04-21</td>\n",
       "      <td>00:00:00</td>\n",
       "      <td>2017-04-21</td>\n",
       "      <td>22:02:06</td>\n",
       "    </tr>\n",
       "    <tr>\n",
       "      <th>4</th>\n",
       "      <td>f7c4243c7fe1938f181bec41a392bdeb</td>\n",
       "      <td>8e6bfb81e283fa7e4f11123a3fb894f1</td>\n",
       "      <td>5</td>\n",
       "      <td>2018-03-01 00:00:00</td>\n",
       "      <td>2018-03-02 10:26:53</td>\n",
       "      <td>2018-03-01</td>\n",
       "      <td>00:00:00</td>\n",
       "      <td>2018-03-02</td>\n",
       "      <td>10:26:53</td>\n",
       "    </tr>\n",
       "  </tbody>\n",
       "</table>\n",
       "</div>"
      ],
      "text/plain": [
       "                        feedback_id                          order_id  \\\n",
       "0  7bc2406110b926393aa56f80a40eba40  73fc7af87114b39712e6da79b0a377eb   \n",
       "1  80e641a11e56f04c1ad469d5645fdfde  a548910a1c6147796b98fdf73dbeba33   \n",
       "2  228ce5500dc1d8e020d8d1322874b6f0  f9e4b658b201a9f2ecdecbb34bed034b   \n",
       "3  e64fb393e7b32834bb789ff8bb30750e  658677c97b385a9be170737859d3511b   \n",
       "4  f7c4243c7fe1938f181bec41a392bdeb  8e6bfb81e283fa7e4f11123a3fb894f1   \n",
       "\n",
       "   feedback_score feedback_form_sent_date feedback_answer_date  \\\n",
       "0               4     2018-01-18 00:00:00  2018-01-18 21:46:59   \n",
       "1               5     2018-03-10 00:00:00  2018-03-11 03:05:13   \n",
       "2               5     2018-02-17 00:00:00  2018-02-18 14:36:24   \n",
       "3               5     2017-04-21 00:00:00  2017-04-21 22:02:06   \n",
       "4               5     2018-03-01 00:00:00  2018-03-02 10:26:53   \n",
       "\n",
       "  feedback_sent_full_date feedback_sent_time feedback_answer_full_date  \\\n",
       "0              2018-01-18           00:00:00                2018-01-18   \n",
       "1              2018-03-10           00:00:00                2018-03-11   \n",
       "2              2018-02-17           00:00:00                2018-02-18   \n",
       "3              2017-04-21           00:00:00                2017-04-21   \n",
       "4              2018-03-01           00:00:00                2018-03-02   \n",
       "\n",
       "  feedback_answer_time  \n",
       "0             21:46:59  \n",
       "1             03:05:13  \n",
       "2             14:36:24  \n",
       "3             22:02:06  \n",
       "4             10:26:53  "
      ]
     },
     "execution_count": 23,
     "metadata": {},
     "output_type": "execute_result"
    }
   ],
   "source": [
    "df.head()"
   ]
  },
  {
   "cell_type": "code",
   "execution_count": 24,
   "id": "5817d9a7",
   "metadata": {},
   "outputs": [
    {
     "name": "stdout",
     "output_type": "stream",
     "text": [
      "<class 'pandas.core.frame.DataFrame'>\n",
      "RangeIndex: 100000 entries, 0 to 99999\n",
      "Data columns (total 9 columns):\n",
      " #   Column                     Non-Null Count   Dtype \n",
      "---  ------                     --------------   ----- \n",
      " 0   feedback_id                100000 non-null  object\n",
      " 1   order_id                   100000 non-null  object\n",
      " 2   feedback_score             100000 non-null  int64 \n",
      " 3   feedback_form_sent_date    100000 non-null  string\n",
      " 4   feedback_answer_date       100000 non-null  string\n",
      " 5   feedback_sent_full_date    100000 non-null  string\n",
      " 6   feedback_sent_time         100000 non-null  string\n",
      " 7   feedback_answer_full_date  100000 non-null  string\n",
      " 8   feedback_answer_time       100000 non-null  string\n",
      "dtypes: int64(1), object(2), string(6)\n",
      "memory usage: 6.9+ MB\n"
     ]
    }
   ],
   "source": [
    "df.info()"
   ]
  },
  {
   "cell_type": "code",
   "execution_count": 25,
   "id": "257c4c6e",
   "metadata": {},
   "outputs": [],
   "source": [
    "# Drop the original 'feedback_form_sent_date' column if needed\n",
    "df = df.drop('feedback_form_sent_date', axis=1)"
   ]
  },
  {
   "cell_type": "code",
   "execution_count": 26,
   "id": "81ce63d3",
   "metadata": {},
   "outputs": [],
   "source": [
    "# Drop the original 'feedback_answer_date' column if needed\n",
    "df = df.drop('feedback_answer_date', axis=1)\n"
   ]
  },
  {
   "cell_type": "code",
   "execution_count": 45,
   "id": "6fed1616",
   "metadata": {},
   "outputs": [
    {
     "data": {
      "text/html": [
       "<div>\n",
       "<style scoped>\n",
       "    .dataframe tbody tr th:only-of-type {\n",
       "        vertical-align: middle;\n",
       "    }\n",
       "\n",
       "    .dataframe tbody tr th {\n",
       "        vertical-align: top;\n",
       "    }\n",
       "\n",
       "    .dataframe thead th {\n",
       "        text-align: right;\n",
       "    }\n",
       "</style>\n",
       "<table border=\"1\" class=\"dataframe\">\n",
       "  <thead>\n",
       "    <tr style=\"text-align: right;\">\n",
       "      <th></th>\n",
       "      <th>feedback_id</th>\n",
       "      <th>order_id</th>\n",
       "      <th>feedback_score</th>\n",
       "      <th>feedback_sent_full_date</th>\n",
       "      <th>feedback_sent_time</th>\n",
       "      <th>feedback_answer_full_date</th>\n",
       "      <th>feedback_answer_time</th>\n",
       "    </tr>\n",
       "  </thead>\n",
       "  <tbody>\n",
       "    <tr>\n",
       "      <th>0</th>\n",
       "      <td>7bc2406110b926393aa56f80a40eba40</td>\n",
       "      <td>73fc7af87114b39712e6da79b0a377eb</td>\n",
       "      <td>4</td>\n",
       "      <td>2018-01-18</td>\n",
       "      <td>0 days 00:00:00</td>\n",
       "      <td>2018-01-18</td>\n",
       "      <td>0 days 21:46:59</td>\n",
       "    </tr>\n",
       "    <tr>\n",
       "      <th>1</th>\n",
       "      <td>80e641a11e56f04c1ad469d5645fdfde</td>\n",
       "      <td>a548910a1c6147796b98fdf73dbeba33</td>\n",
       "      <td>5</td>\n",
       "      <td>2018-03-10</td>\n",
       "      <td>0 days 00:00:00</td>\n",
       "      <td>2018-03-11</td>\n",
       "      <td>0 days 03:05:13</td>\n",
       "    </tr>\n",
       "    <tr>\n",
       "      <th>2</th>\n",
       "      <td>228ce5500dc1d8e020d8d1322874b6f0</td>\n",
       "      <td>f9e4b658b201a9f2ecdecbb34bed034b</td>\n",
       "      <td>5</td>\n",
       "      <td>2018-02-17</td>\n",
       "      <td>0 days 00:00:00</td>\n",
       "      <td>2018-02-18</td>\n",
       "      <td>0 days 14:36:24</td>\n",
       "    </tr>\n",
       "    <tr>\n",
       "      <th>3</th>\n",
       "      <td>e64fb393e7b32834bb789ff8bb30750e</td>\n",
       "      <td>658677c97b385a9be170737859d3511b</td>\n",
       "      <td>5</td>\n",
       "      <td>2017-04-21</td>\n",
       "      <td>0 days 00:00:00</td>\n",
       "      <td>2017-04-21</td>\n",
       "      <td>0 days 22:02:06</td>\n",
       "    </tr>\n",
       "    <tr>\n",
       "      <th>4</th>\n",
       "      <td>f7c4243c7fe1938f181bec41a392bdeb</td>\n",
       "      <td>8e6bfb81e283fa7e4f11123a3fb894f1</td>\n",
       "      <td>5</td>\n",
       "      <td>2018-03-01</td>\n",
       "      <td>0 days 00:00:00</td>\n",
       "      <td>2018-03-02</td>\n",
       "      <td>0 days 10:26:53</td>\n",
       "    </tr>\n",
       "    <tr>\n",
       "      <th>...</th>\n",
       "      <td>...</td>\n",
       "      <td>...</td>\n",
       "      <td>...</td>\n",
       "      <td>...</td>\n",
       "      <td>...</td>\n",
       "      <td>...</td>\n",
       "      <td>...</td>\n",
       "    </tr>\n",
       "    <tr>\n",
       "      <th>95</th>\n",
       "      <td>71bc170a5ad41ee9dee95f82a17860a8</td>\n",
       "      <td>a90b081d0efa436e072d5328ecd904a4</td>\n",
       "      <td>5</td>\n",
       "      <td>2017-08-03</td>\n",
       "      <td>0 days 00:00:00</td>\n",
       "      <td>2017-08-03</td>\n",
       "      <td>0 days 23:40:22</td>\n",
       "    </tr>\n",
       "    <tr>\n",
       "      <th>96</th>\n",
       "      <td>c5be8de5421e658a45042d6ca6a4ff64</td>\n",
       "      <td>61665389f0cccf5ec8135e3b05efc714</td>\n",
       "      <td>5</td>\n",
       "      <td>2017-12-12</td>\n",
       "      <td>0 days 00:00:00</td>\n",
       "      <td>2017-12-13</td>\n",
       "      <td>0 days 22:58:34</td>\n",
       "    </tr>\n",
       "    <tr>\n",
       "      <th>97</th>\n",
       "      <td>0c8b57ea62de568f13a0e101d344977e</td>\n",
       "      <td>41bc5a3d34a8e4ef91b2e7d9500694cf</td>\n",
       "      <td>5</td>\n",
       "      <td>2017-07-12</td>\n",
       "      <td>0 days 00:00:00</td>\n",
       "      <td>2017-07-13</td>\n",
       "      <td>0 days 01:02:28</td>\n",
       "    </tr>\n",
       "    <tr>\n",
       "      <th>98</th>\n",
       "      <td>edfbad2944ea758725486c3bbcd04f49</td>\n",
       "      <td>9d2aa61b374fac5dd063f36fefa602e1</td>\n",
       "      <td>3</td>\n",
       "      <td>2018-03-28</td>\n",
       "      <td>0 days 00:00:00</td>\n",
       "      <td>2018-03-31</td>\n",
       "      <td>0 days 03:25:49</td>\n",
       "    </tr>\n",
       "    <tr>\n",
       "      <th>99</th>\n",
       "      <td>bbf6c18e7c5a88b6adcb69af3b971207</td>\n",
       "      <td>828a705e0645673b538e803ca75a29b6</td>\n",
       "      <td>5</td>\n",
       "      <td>2017-10-31</td>\n",
       "      <td>0 days 00:00:00</td>\n",
       "      <td>2017-11-06</td>\n",
       "      <td>0 days 18:43:24</td>\n",
       "    </tr>\n",
       "  </tbody>\n",
       "</table>\n",
       "<p>100 rows × 7 columns</p>\n",
       "</div>"
      ],
      "text/plain": [
       "                         feedback_id                          order_id  \\\n",
       "0   7bc2406110b926393aa56f80a40eba40  73fc7af87114b39712e6da79b0a377eb   \n",
       "1   80e641a11e56f04c1ad469d5645fdfde  a548910a1c6147796b98fdf73dbeba33   \n",
       "2   228ce5500dc1d8e020d8d1322874b6f0  f9e4b658b201a9f2ecdecbb34bed034b   \n",
       "3   e64fb393e7b32834bb789ff8bb30750e  658677c97b385a9be170737859d3511b   \n",
       "4   f7c4243c7fe1938f181bec41a392bdeb  8e6bfb81e283fa7e4f11123a3fb894f1   \n",
       "..                               ...                               ...   \n",
       "95  71bc170a5ad41ee9dee95f82a17860a8  a90b081d0efa436e072d5328ecd904a4   \n",
       "96  c5be8de5421e658a45042d6ca6a4ff64  61665389f0cccf5ec8135e3b05efc714   \n",
       "97  0c8b57ea62de568f13a0e101d344977e  41bc5a3d34a8e4ef91b2e7d9500694cf   \n",
       "98  edfbad2944ea758725486c3bbcd04f49  9d2aa61b374fac5dd063f36fefa602e1   \n",
       "99  bbf6c18e7c5a88b6adcb69af3b971207  828a705e0645673b538e803ca75a29b6   \n",
       "\n",
       "    feedback_score feedback_sent_full_date feedback_sent_time  \\\n",
       "0                4              2018-01-18    0 days 00:00:00   \n",
       "1                5              2018-03-10    0 days 00:00:00   \n",
       "2                5              2018-02-17    0 days 00:00:00   \n",
       "3                5              2017-04-21    0 days 00:00:00   \n",
       "4                5              2018-03-01    0 days 00:00:00   \n",
       "..             ...                     ...                ...   \n",
       "95               5              2017-08-03    0 days 00:00:00   \n",
       "96               5              2017-12-12    0 days 00:00:00   \n",
       "97               5              2017-07-12    0 days 00:00:00   \n",
       "98               3              2018-03-28    0 days 00:00:00   \n",
       "99               5              2017-10-31    0 days 00:00:00   \n",
       "\n",
       "   feedback_answer_full_date feedback_answer_time  \n",
       "0                 2018-01-18      0 days 21:46:59  \n",
       "1                 2018-03-11      0 days 03:05:13  \n",
       "2                 2018-02-18      0 days 14:36:24  \n",
       "3                 2017-04-21      0 days 22:02:06  \n",
       "4                 2018-03-02      0 days 10:26:53  \n",
       "..                       ...                  ...  \n",
       "95                2017-08-03      0 days 23:40:22  \n",
       "96                2017-12-13      0 days 22:58:34  \n",
       "97                2017-07-13      0 days 01:02:28  \n",
       "98                2018-03-31      0 days 03:25:49  \n",
       "99                2017-11-06      0 days 18:43:24  \n",
       "\n",
       "[100 rows x 7 columns]"
      ]
     },
     "execution_count": 45,
     "metadata": {},
     "output_type": "execute_result"
    }
   ],
   "source": [
    "df.head(100)"
   ]
  },
  {
   "cell_type": "code",
   "execution_count": 28,
   "id": "e7c0ae34",
   "metadata": {},
   "outputs": [],
   "source": [
    "#Convert the 'feedback_form_sent_date' column from object to date\n",
    "df['feedback_sent_full_date'] = pd.to_datetime(df['feedback_sent_full_date'])\n",
    "df['feedback_answer_full_date'] = pd.to_datetime(df['feedback_answer_full_date'])\n"
   ]
  },
  {
   "cell_type": "code",
   "execution_count": 44,
   "id": "51802a1a",
   "metadata": {},
   "outputs": [
    {
     "name": "stdout",
     "output_type": "stream",
     "text": [
      "<class 'pandas.core.frame.DataFrame'>\n",
      "RangeIndex: 100000 entries, 0 to 99999\n",
      "Data columns (total 7 columns):\n",
      " #   Column                     Non-Null Count   Dtype         \n",
      "---  ------                     --------------   -----         \n",
      " 0   feedback_id                100000 non-null  string        \n",
      " 1   order_id                   100000 non-null  string        \n",
      " 2   feedback_score             100000 non-null  int64         \n",
      " 3   feedback_sent_full_date    100000 non-null  datetime64[ns]\n",
      " 4   feedback_sent_time         100000 non-null  object        \n",
      " 5   feedback_answer_full_date  100000 non-null  datetime64[ns]\n",
      " 6   feedback_answer_time       100000 non-null  object        \n",
      "dtypes: datetime64[ns](2), int64(1), object(2), string(2)\n",
      "memory usage: 5.3+ MB\n"
     ]
    }
   ],
   "source": [
    "df.info()"
   ]
  },
  {
   "cell_type": "code",
   "execution_count": 31,
   "id": "782b9fe9",
   "metadata": {},
   "outputs": [],
   "source": [
    "df['feedback_id'] = df['feedback_id'].astype(\"string\")\n",
    "df['order_id'] = df['order_id'].astype(\"string\")"
   ]
  },
  {
   "cell_type": "code",
   "execution_count": 43,
   "id": "8a833ab0",
   "metadata": {},
   "outputs": [],
   "source": [
    "# Convert the 'feedback_sent_time' and 'feedback_answer_time' column from string to timedelta\n",
    "# df['feedback_sent_time'] = pd.to_timedelta(df['feedback_sent_time'])\n",
    "# df['feedback_answer_time'] = pd.to_timedelta(df['feedback_answer_time'])\n",
    "df['feedback_sent_time'] = df['feedback_sent_time'].astype(\"object\")\n",
    "df['feedback_answer_time'] = df['feedback_answer_time'].astype(\"object\")"
   ]
  },
  {
   "cell_type": "code",
   "execution_count": 35,
   "id": "7e16dab2",
   "metadata": {},
   "outputs": [
    {
     "data": {
      "text/plain": [
       "False"
      ]
     },
     "execution_count": 35,
     "metadata": {},
     "output_type": "execute_result"
    }
   ],
   "source": [
    "df['feedback_answer_full_date'].equals(df['feedback_sent_full_date'])  # Returns True\n"
   ]
  },
  {
   "cell_type": "code",
   "execution_count": 42,
   "id": "ef9d53fe",
   "metadata": {},
   "outputs": [
    {
     "data": {
      "text/plain": [
       "2"
      ]
     },
     "execution_count": 42,
     "metadata": {},
     "output_type": "execute_result"
    }
   ],
   "source": [
    "# counting unique values in one column\n",
    "len(pd.unique(df['feedback_sent_time']))"
   ]
  },
  {
   "cell_type": "code",
   "execution_count": 46,
   "id": "ab18fa37",
   "metadata": {},
   "outputs": [],
   "source": [
    "# Drop the original 'Name_Age' column if needed\n",
    "df = df.drop('feedback_sent_time', axis=1)\n",
    "df = df.drop('feedback_answer_time', axis=1)"
   ]
  },
  {
   "cell_type": "code",
   "execution_count": 56,
   "id": "61c2c18d",
   "metadata": {},
   "outputs": [
    {
     "data": {
      "text/html": [
       "<div>\n",
       "<style scoped>\n",
       "    .dataframe tbody tr th:only-of-type {\n",
       "        vertical-align: middle;\n",
       "    }\n",
       "\n",
       "    .dataframe tbody tr th {\n",
       "        vertical-align: top;\n",
       "    }\n",
       "\n",
       "    .dataframe thead th {\n",
       "        text-align: right;\n",
       "    }\n",
       "</style>\n",
       "<table border=\"1\" class=\"dataframe\">\n",
       "  <thead>\n",
       "    <tr style=\"text-align: right;\">\n",
       "      <th></th>\n",
       "      <th>feedback_id</th>\n",
       "      <th>order_id</th>\n",
       "      <th>feedback_score</th>\n",
       "      <th>feedback_sent_full_date</th>\n",
       "      <th>feedback_answer_full_date</th>\n",
       "      <th>Days_Between</th>\n",
       "    </tr>\n",
       "  </thead>\n",
       "  <tbody>\n",
       "    <tr>\n",
       "      <th>0</th>\n",
       "      <td>7bc2406110b926393aa56f80a40eba40</td>\n",
       "      <td>73fc7af87114b39712e6da79b0a377eb</td>\n",
       "      <td>4</td>\n",
       "      <td>2018-01-18</td>\n",
       "      <td>2018-01-18</td>\n",
       "      <td>0</td>\n",
       "    </tr>\n",
       "    <tr>\n",
       "      <th>1</th>\n",
       "      <td>80e641a11e56f04c1ad469d5645fdfde</td>\n",
       "      <td>a548910a1c6147796b98fdf73dbeba33</td>\n",
       "      <td>5</td>\n",
       "      <td>2018-03-10</td>\n",
       "      <td>2018-03-11</td>\n",
       "      <td>1</td>\n",
       "    </tr>\n",
       "    <tr>\n",
       "      <th>2</th>\n",
       "      <td>228ce5500dc1d8e020d8d1322874b6f0</td>\n",
       "      <td>f9e4b658b201a9f2ecdecbb34bed034b</td>\n",
       "      <td>5</td>\n",
       "      <td>2018-02-17</td>\n",
       "      <td>2018-02-18</td>\n",
       "      <td>1</td>\n",
       "    </tr>\n",
       "    <tr>\n",
       "      <th>3</th>\n",
       "      <td>e64fb393e7b32834bb789ff8bb30750e</td>\n",
       "      <td>658677c97b385a9be170737859d3511b</td>\n",
       "      <td>5</td>\n",
       "      <td>2017-04-21</td>\n",
       "      <td>2017-04-21</td>\n",
       "      <td>0</td>\n",
       "    </tr>\n",
       "    <tr>\n",
       "      <th>4</th>\n",
       "      <td>f7c4243c7fe1938f181bec41a392bdeb</td>\n",
       "      <td>8e6bfb81e283fa7e4f11123a3fb894f1</td>\n",
       "      <td>5</td>\n",
       "      <td>2018-03-01</td>\n",
       "      <td>2018-03-02</td>\n",
       "      <td>1</td>\n",
       "    </tr>\n",
       "  </tbody>\n",
       "</table>\n",
       "</div>"
      ],
      "text/plain": [
       "                        feedback_id                          order_id  \\\n",
       "0  7bc2406110b926393aa56f80a40eba40  73fc7af87114b39712e6da79b0a377eb   \n",
       "1  80e641a11e56f04c1ad469d5645fdfde  a548910a1c6147796b98fdf73dbeba33   \n",
       "2  228ce5500dc1d8e020d8d1322874b6f0  f9e4b658b201a9f2ecdecbb34bed034b   \n",
       "3  e64fb393e7b32834bb789ff8bb30750e  658677c97b385a9be170737859d3511b   \n",
       "4  f7c4243c7fe1938f181bec41a392bdeb  8e6bfb81e283fa7e4f11123a3fb894f1   \n",
       "\n",
       "   feedback_score feedback_sent_full_date feedback_answer_full_date  \\\n",
       "0               4              2018-01-18                2018-01-18   \n",
       "1               5              2018-03-10                2018-03-11   \n",
       "2               5              2018-02-17                2018-02-18   \n",
       "3               5              2017-04-21                2017-04-21   \n",
       "4               5              2018-03-01                2018-03-02   \n",
       "\n",
       "   Days_Between  \n",
       "0             0  \n",
       "1             1  \n",
       "2             1  \n",
       "3             0  \n",
       "4             1  "
      ]
     },
     "execution_count": 56,
     "metadata": {},
     "output_type": "execute_result"
    }
   ],
   "source": [
    "df.head()"
   ]
  },
  {
   "cell_type": "code",
   "execution_count": 57,
   "id": "462886a8",
   "metadata": {},
   "outputs": [
    {
     "name": "stdout",
     "output_type": "stream",
     "text": [
      "<class 'pandas.core.frame.DataFrame'>\n",
      "RangeIndex: 100000 entries, 0 to 99999\n",
      "Data columns (total 6 columns):\n",
      " #   Column                     Non-Null Count   Dtype         \n",
      "---  ------                     --------------   -----         \n",
      " 0   feedback_id                100000 non-null  string        \n",
      " 1   order_id                   100000 non-null  string        \n",
      " 2   feedback_score             100000 non-null  int64         \n",
      " 3   feedback_sent_full_date    100000 non-null  datetime64[ns]\n",
      " 4   feedback_answer_full_date  100000 non-null  datetime64[ns]\n",
      " 5   Days_Between               100000 non-null  int64         \n",
      "dtypes: datetime64[ns](2), int64(2), string(2)\n",
      "memory usage: 4.6 MB\n"
     ]
    }
   ],
   "source": [
    "df.info()"
   ]
  },
  {
   "cell_type": "code",
   "execution_count": 49,
   "id": "9224653c",
   "metadata": {},
   "outputs": [],
   "source": [
    "# # Creates a new column containing all the days between feedback_sent_full_date and feedback_answer_full_date\n",
    "# df[\"days\"] = df.apply(lambda row: pd.date_range(start=row[\"feedback_sent_full_date\"], end=row[\"feedback_answer_full_date\"], freq=\"D\"), axis=1)"
   ]
  },
  {
   "cell_type": "code",
   "execution_count": 55,
   "id": "7b8d7ebb",
   "metadata": {},
   "outputs": [],
   "source": [
    "# Calculate the number of days between 'Start_Date' and 'End_Date'\n",
    "df['Days_Between'] = (df['feedback_answer_full_date'] - df['feedback_sent_full_date']).dt.days"
   ]
  },
  {
   "cell_type": "code",
   "execution_count": 58,
   "id": "342757eb",
   "metadata": {},
   "outputs": [],
   "source": [
    "# Export the DataFrame to a CSV file\n",
    "df.to_csv('feedback_dataset_1.csv', index=False)"
   ]
  },
  {
   "cell_type": "code",
   "execution_count": 59,
   "id": "f948d9ff",
   "metadata": {},
   "outputs": [],
   "source": [
    "df1 = pd.read_csv('feedback_dataset_1.csv')"
   ]
  },
  {
   "cell_type": "code",
   "execution_count": 60,
   "id": "b9f4c3b9",
   "metadata": {},
   "outputs": [
    {
     "data": {
      "text/html": [
       "<div>\n",
       "<style scoped>\n",
       "    .dataframe tbody tr th:only-of-type {\n",
       "        vertical-align: middle;\n",
       "    }\n",
       "\n",
       "    .dataframe tbody tr th {\n",
       "        vertical-align: top;\n",
       "    }\n",
       "\n",
       "    .dataframe thead th {\n",
       "        text-align: right;\n",
       "    }\n",
       "</style>\n",
       "<table border=\"1\" class=\"dataframe\">\n",
       "  <thead>\n",
       "    <tr style=\"text-align: right;\">\n",
       "      <th></th>\n",
       "      <th>feedback_id</th>\n",
       "      <th>order_id</th>\n",
       "      <th>feedback_score</th>\n",
       "      <th>feedback_sent_full_date</th>\n",
       "      <th>feedback_answer_full_date</th>\n",
       "      <th>Days_Between</th>\n",
       "    </tr>\n",
       "  </thead>\n",
       "  <tbody>\n",
       "    <tr>\n",
       "      <th>0</th>\n",
       "      <td>7bc2406110b926393aa56f80a40eba40</td>\n",
       "      <td>73fc7af87114b39712e6da79b0a377eb</td>\n",
       "      <td>4</td>\n",
       "      <td>2018-01-18</td>\n",
       "      <td>2018-01-18</td>\n",
       "      <td>0</td>\n",
       "    </tr>\n",
       "    <tr>\n",
       "      <th>1</th>\n",
       "      <td>80e641a11e56f04c1ad469d5645fdfde</td>\n",
       "      <td>a548910a1c6147796b98fdf73dbeba33</td>\n",
       "      <td>5</td>\n",
       "      <td>2018-03-10</td>\n",
       "      <td>2018-03-11</td>\n",
       "      <td>1</td>\n",
       "    </tr>\n",
       "    <tr>\n",
       "      <th>2</th>\n",
       "      <td>228ce5500dc1d8e020d8d1322874b6f0</td>\n",
       "      <td>f9e4b658b201a9f2ecdecbb34bed034b</td>\n",
       "      <td>5</td>\n",
       "      <td>2018-02-17</td>\n",
       "      <td>2018-02-18</td>\n",
       "      <td>1</td>\n",
       "    </tr>\n",
       "    <tr>\n",
       "      <th>3</th>\n",
       "      <td>e64fb393e7b32834bb789ff8bb30750e</td>\n",
       "      <td>658677c97b385a9be170737859d3511b</td>\n",
       "      <td>5</td>\n",
       "      <td>2017-04-21</td>\n",
       "      <td>2017-04-21</td>\n",
       "      <td>0</td>\n",
       "    </tr>\n",
       "    <tr>\n",
       "      <th>4</th>\n",
       "      <td>f7c4243c7fe1938f181bec41a392bdeb</td>\n",
       "      <td>8e6bfb81e283fa7e4f11123a3fb894f1</td>\n",
       "      <td>5</td>\n",
       "      <td>2018-03-01</td>\n",
       "      <td>2018-03-02</td>\n",
       "      <td>1</td>\n",
       "    </tr>\n",
       "  </tbody>\n",
       "</table>\n",
       "</div>"
      ],
      "text/plain": [
       "                        feedback_id                          order_id  \\\n",
       "0  7bc2406110b926393aa56f80a40eba40  73fc7af87114b39712e6da79b0a377eb   \n",
       "1  80e641a11e56f04c1ad469d5645fdfde  a548910a1c6147796b98fdf73dbeba33   \n",
       "2  228ce5500dc1d8e020d8d1322874b6f0  f9e4b658b201a9f2ecdecbb34bed034b   \n",
       "3  e64fb393e7b32834bb789ff8bb30750e  658677c97b385a9be170737859d3511b   \n",
       "4  f7c4243c7fe1938f181bec41a392bdeb  8e6bfb81e283fa7e4f11123a3fb894f1   \n",
       "\n",
       "   feedback_score feedback_sent_full_date feedback_answer_full_date  \\\n",
       "0               4              2018-01-18                2018-01-18   \n",
       "1               5              2018-03-10                2018-03-11   \n",
       "2               5              2018-02-17                2018-02-18   \n",
       "3               5              2017-04-21                2017-04-21   \n",
       "4               5              2018-03-01                2018-03-02   \n",
       "\n",
       "   Days_Between  \n",
       "0             0  \n",
       "1             1  \n",
       "2             1  \n",
       "3             0  \n",
       "4             1  "
      ]
     },
     "execution_count": 60,
     "metadata": {},
     "output_type": "execute_result"
    }
   ],
   "source": [
    "df1.head()"
   ]
  },
  {
   "cell_type": "code",
   "execution_count": null,
   "id": "d49a66c0",
   "metadata": {},
   "outputs": [],
   "source": []
  }
 ],
 "metadata": {
  "kernelspec": {
   "display_name": "Python 3 (ipykernel)",
   "language": "python",
   "name": "python3"
  },
  "language_info": {
   "codemirror_mode": {
    "name": "ipython",
    "version": 3
   },
   "file_extension": ".py",
   "mimetype": "text/x-python",
   "name": "python",
   "nbconvert_exporter": "python",
   "pygments_lexer": "ipython3",
   "version": "3.9.7"
  }
 },
 "nbformat": 4,
 "nbformat_minor": 5
}
