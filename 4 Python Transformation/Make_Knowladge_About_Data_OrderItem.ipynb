{
 "cells": [
  {
   "cell_type": "code",
   "execution_count": 20,
   "id": "a27e9c67",
   "metadata": {},
   "outputs": [],
   "source": [
    "import pandas as pd"
   ]
  },
  {
   "cell_type": "code",
   "execution_count": 21,
   "id": "5962ea3a",
   "metadata": {},
   "outputs": [],
   "source": [
    "df = pd.read_csv('order_item_dataset.csv')"
   ]
  },
  {
   "cell_type": "code",
   "execution_count": 22,
   "id": "a9b00b18",
   "metadata": {},
   "outputs": [
    {
     "data": {
      "text/html": [
       "<div>\n",
       "<style scoped>\n",
       "    .dataframe tbody tr th:only-of-type {\n",
       "        vertical-align: middle;\n",
       "    }\n",
       "\n",
       "    .dataframe tbody tr th {\n",
       "        vertical-align: top;\n",
       "    }\n",
       "\n",
       "    .dataframe thead th {\n",
       "        text-align: right;\n",
       "    }\n",
       "</style>\n",
       "<table border=\"1\" class=\"dataframe\">\n",
       "  <thead>\n",
       "    <tr style=\"text-align: right;\">\n",
       "      <th></th>\n",
       "      <th>order_id</th>\n",
       "      <th>order_item_id</th>\n",
       "      <th>product_id</th>\n",
       "      <th>seller_id</th>\n",
       "      <th>pickup_limit_date</th>\n",
       "      <th>price</th>\n",
       "      <th>shipping_cost</th>\n",
       "    </tr>\n",
       "  </thead>\n",
       "  <tbody>\n",
       "    <tr>\n",
       "      <th>0</th>\n",
       "      <td>00010242fe8c5a6d1ba2dd792cb16214</td>\n",
       "      <td>1</td>\n",
       "      <td>4244733e06e7ecb4970a6e2683c13e61</td>\n",
       "      <td>48436dade18ac8b2bce089ec2a041202</td>\n",
       "      <td>2017-09-19 09:45:35</td>\n",
       "      <td>58900.0</td>\n",
       "      <td>13290.0</td>\n",
       "    </tr>\n",
       "    <tr>\n",
       "      <th>1</th>\n",
       "      <td>00018f77f2f0320c557190d7a144bdd3</td>\n",
       "      <td>1</td>\n",
       "      <td>e5f2d52b802189ee658865ca93d83a8f</td>\n",
       "      <td>dd7ddc04e1b6c2c614352b383efe2d36</td>\n",
       "      <td>2017-05-03 11:05:13</td>\n",
       "      <td>239900.0</td>\n",
       "      <td>19930.0</td>\n",
       "    </tr>\n",
       "    <tr>\n",
       "      <th>2</th>\n",
       "      <td>000229ec398224ef6ca0657da4fc703e</td>\n",
       "      <td>1</td>\n",
       "      <td>c777355d18b72b67abbeef9df44fd0fd</td>\n",
       "      <td>5b51032eddd242adc84c38acab88f23d</td>\n",
       "      <td>2018-01-18 14:48:30</td>\n",
       "      <td>199000.0</td>\n",
       "      <td>17870.0</td>\n",
       "    </tr>\n",
       "    <tr>\n",
       "      <th>3</th>\n",
       "      <td>00024acbcdf0a6daa1e931b038114c75</td>\n",
       "      <td>1</td>\n",
       "      <td>7634da152a4610f1595efa32f14722fc</td>\n",
       "      <td>9d7a1d34a5052409006425275ba1c2b4</td>\n",
       "      <td>2018-08-15 10:10:18</td>\n",
       "      <td>12990.0</td>\n",
       "      <td>12790.0</td>\n",
       "    </tr>\n",
       "    <tr>\n",
       "      <th>4</th>\n",
       "      <td>00042b26cf59d7ce69dfabb4e55b4fd9</td>\n",
       "      <td>1</td>\n",
       "      <td>ac6c3623068f30de03045865e4e10089</td>\n",
       "      <td>df560393f3a51e74553ab94004ba5c87</td>\n",
       "      <td>2017-02-13 13:57:51</td>\n",
       "      <td>199900.0</td>\n",
       "      <td>18140.0</td>\n",
       "    </tr>\n",
       "  </tbody>\n",
       "</table>\n",
       "</div>"
      ],
      "text/plain": [
       "                           order_id  order_item_id  \\\n",
       "0  00010242fe8c5a6d1ba2dd792cb16214              1   \n",
       "1  00018f77f2f0320c557190d7a144bdd3              1   \n",
       "2  000229ec398224ef6ca0657da4fc703e              1   \n",
       "3  00024acbcdf0a6daa1e931b038114c75              1   \n",
       "4  00042b26cf59d7ce69dfabb4e55b4fd9              1   \n",
       "\n",
       "                         product_id                         seller_id  \\\n",
       "0  4244733e06e7ecb4970a6e2683c13e61  48436dade18ac8b2bce089ec2a041202   \n",
       "1  e5f2d52b802189ee658865ca93d83a8f  dd7ddc04e1b6c2c614352b383efe2d36   \n",
       "2  c777355d18b72b67abbeef9df44fd0fd  5b51032eddd242adc84c38acab88f23d   \n",
       "3  7634da152a4610f1595efa32f14722fc  9d7a1d34a5052409006425275ba1c2b4   \n",
       "4  ac6c3623068f30de03045865e4e10089  df560393f3a51e74553ab94004ba5c87   \n",
       "\n",
       "     pickup_limit_date     price  shipping_cost  \n",
       "0  2017-09-19 09:45:35   58900.0        13290.0  \n",
       "1  2017-05-03 11:05:13  239900.0        19930.0  \n",
       "2  2018-01-18 14:48:30  199000.0        17870.0  \n",
       "3  2018-08-15 10:10:18   12990.0        12790.0  \n",
       "4  2017-02-13 13:57:51  199900.0        18140.0  "
      ]
     },
     "execution_count": 22,
     "metadata": {},
     "output_type": "execute_result"
    }
   ],
   "source": [
    "df.head()"
   ]
  },
  {
   "cell_type": "code",
   "execution_count": 23,
   "id": "fd48e2e1",
   "metadata": {},
   "outputs": [
    {
     "data": {
      "text/html": [
       "<div>\n",
       "<style scoped>\n",
       "    .dataframe tbody tr th:only-of-type {\n",
       "        vertical-align: middle;\n",
       "    }\n",
       "\n",
       "    .dataframe tbody tr th {\n",
       "        vertical-align: top;\n",
       "    }\n",
       "\n",
       "    .dataframe thead th {\n",
       "        text-align: right;\n",
       "    }\n",
       "</style>\n",
       "<table border=\"1\" class=\"dataframe\">\n",
       "  <thead>\n",
       "    <tr style=\"text-align: right;\">\n",
       "      <th></th>\n",
       "      <th>order_id</th>\n",
       "      <th>product_id</th>\n",
       "      <th>seller_id</th>\n",
       "      <th>pickup_limit_date</th>\n",
       "    </tr>\n",
       "  </thead>\n",
       "  <tbody>\n",
       "    <tr>\n",
       "      <th>count</th>\n",
       "      <td>112650</td>\n",
       "      <td>112650</td>\n",
       "      <td>112650</td>\n",
       "      <td>112650</td>\n",
       "    </tr>\n",
       "    <tr>\n",
       "      <th>unique</th>\n",
       "      <td>98666</td>\n",
       "      <td>32951</td>\n",
       "      <td>3095</td>\n",
       "      <td>93318</td>\n",
       "    </tr>\n",
       "    <tr>\n",
       "      <th>top</th>\n",
       "      <td>8272b63d03f5f79c56e9e4120aec44ef</td>\n",
       "      <td>aca2eb7d00ea1a7b8ebd4e68314663af</td>\n",
       "      <td>6560211a19b47992c3666cc44a7e94c0</td>\n",
       "      <td>2017-07-21 18:25:23</td>\n",
       "    </tr>\n",
       "    <tr>\n",
       "      <th>freq</th>\n",
       "      <td>21</td>\n",
       "      <td>527</td>\n",
       "      <td>2033</td>\n",
       "      <td>21</td>\n",
       "    </tr>\n",
       "  </tbody>\n",
       "</table>\n",
       "</div>"
      ],
      "text/plain": [
       "                                order_id                        product_id  \\\n",
       "count                             112650                            112650   \n",
       "unique                             98666                             32951   \n",
       "top     8272b63d03f5f79c56e9e4120aec44ef  aca2eb7d00ea1a7b8ebd4e68314663af   \n",
       "freq                                  21                               527   \n",
       "\n",
       "                               seller_id    pickup_limit_date  \n",
       "count                             112650               112650  \n",
       "unique                              3095                93318  \n",
       "top     6560211a19b47992c3666cc44a7e94c0  2017-07-21 18:25:23  \n",
       "freq                                2033                   21  "
      ]
     },
     "execution_count": 23,
     "metadata": {},
     "output_type": "execute_result"
    }
   ],
   "source": [
    "df.describe(include=object)\n",
    "#string values"
   ]
  },
  {
   "cell_type": "code",
   "execution_count": 24,
   "id": "88a57e01",
   "metadata": {},
   "outputs": [
    {
     "data": {
      "text/html": [
       "<div>\n",
       "<style scoped>\n",
       "    .dataframe tbody tr th:only-of-type {\n",
       "        vertical-align: middle;\n",
       "    }\n",
       "\n",
       "    .dataframe tbody tr th {\n",
       "        vertical-align: top;\n",
       "    }\n",
       "\n",
       "    .dataframe thead th {\n",
       "        text-align: right;\n",
       "    }\n",
       "</style>\n",
       "<table border=\"1\" class=\"dataframe\">\n",
       "  <thead>\n",
       "    <tr style=\"text-align: right;\">\n",
       "      <th></th>\n",
       "      <th>order_item_id</th>\n",
       "      <th>price</th>\n",
       "      <th>shipping_cost</th>\n",
       "    </tr>\n",
       "  </thead>\n",
       "  <tbody>\n",
       "    <tr>\n",
       "      <th>count</th>\n",
       "      <td>112650.000000</td>\n",
       "      <td>1.126500e+05</td>\n",
       "      <td>112650.000000</td>\n",
       "    </tr>\n",
       "    <tr>\n",
       "      <th>mean</th>\n",
       "      <td>1.197834</td>\n",
       "      <td>1.206537e+05</td>\n",
       "      <td>19990.319929</td>\n",
       "    </tr>\n",
       "    <tr>\n",
       "      <th>std</th>\n",
       "      <td>0.705124</td>\n",
       "      <td>1.836339e+05</td>\n",
       "      <td>15806.405412</td>\n",
       "    </tr>\n",
       "    <tr>\n",
       "      <th>min</th>\n",
       "      <td>1.000000</td>\n",
       "      <td>8.500000e+02</td>\n",
       "      <td>0.000000</td>\n",
       "    </tr>\n",
       "    <tr>\n",
       "      <th>25%</th>\n",
       "      <td>1.000000</td>\n",
       "      <td>3.990000e+04</td>\n",
       "      <td>13080.000000</td>\n",
       "    </tr>\n",
       "    <tr>\n",
       "      <th>50%</th>\n",
       "      <td>1.000000</td>\n",
       "      <td>7.499000e+04</td>\n",
       "      <td>16260.000000</td>\n",
       "    </tr>\n",
       "    <tr>\n",
       "      <th>75%</th>\n",
       "      <td>1.000000</td>\n",
       "      <td>1.349000e+05</td>\n",
       "      <td>21150.000000</td>\n",
       "    </tr>\n",
       "    <tr>\n",
       "      <th>max</th>\n",
       "      <td>21.000000</td>\n",
       "      <td>6.735000e+06</td>\n",
       "      <td>409680.000000</td>\n",
       "    </tr>\n",
       "  </tbody>\n",
       "</table>\n",
       "</div>"
      ],
      "text/plain": [
       "       order_item_id         price  shipping_cost\n",
       "count  112650.000000  1.126500e+05  112650.000000\n",
       "mean        1.197834  1.206537e+05   19990.319929\n",
       "std         0.705124  1.836339e+05   15806.405412\n",
       "min         1.000000  8.500000e+02       0.000000\n",
       "25%         1.000000  3.990000e+04   13080.000000\n",
       "50%         1.000000  7.499000e+04   16260.000000\n",
       "75%         1.000000  1.349000e+05   21150.000000\n",
       "max        21.000000  6.735000e+06  409680.000000"
      ]
     },
     "execution_count": 24,
     "metadata": {},
     "output_type": "execute_result"
    }
   ],
   "source": [
    "df.describe()\n",
    "#the only numeric values"
   ]
  },
  {
   "cell_type": "code",
   "execution_count": 25,
   "id": "ffec438e",
   "metadata": {},
   "outputs": [
    {
     "data": {
      "text/plain": [
       "pandas.core.frame.DataFrame"
      ]
     },
     "execution_count": 25,
     "metadata": {},
     "output_type": "execute_result"
    }
   ],
   "source": [
    "type(df)"
   ]
  },
  {
   "cell_type": "code",
   "execution_count": 26,
   "id": "58f07e52",
   "metadata": {},
   "outputs": [
    {
     "data": {
      "text/plain": [
       "(112650, 7)"
      ]
     },
     "execution_count": 26,
     "metadata": {},
     "output_type": "execute_result"
    }
   ],
   "source": [
    "df.shape\n",
    "# (rows,columns)"
   ]
  },
  {
   "cell_type": "code",
   "execution_count": 27,
   "id": "5ffa24f7",
   "metadata": {},
   "outputs": [
    {
     "data": {
      "text/plain": [
       "112650"
      ]
     },
     "execution_count": 27,
     "metadata": {},
     "output_type": "execute_result"
    }
   ],
   "source": [
    "len(df)\n",
    "#number of rows"
   ]
  },
  {
   "cell_type": "code",
   "execution_count": 28,
   "id": "bcf5afb9",
   "metadata": {},
   "outputs": [
    {
     "data": {
      "text/html": [
       "<div>\n",
       "<style scoped>\n",
       "    .dataframe tbody tr th:only-of-type {\n",
       "        vertical-align: middle;\n",
       "    }\n",
       "\n",
       "    .dataframe tbody tr th {\n",
       "        vertical-align: top;\n",
       "    }\n",
       "\n",
       "    .dataframe thead th {\n",
       "        text-align: right;\n",
       "    }\n",
       "</style>\n",
       "<table border=\"1\" class=\"dataframe\">\n",
       "  <thead>\n",
       "    <tr style=\"text-align: right;\">\n",
       "      <th></th>\n",
       "      <th>order_id</th>\n",
       "      <th>order_item_id</th>\n",
       "      <th>product_id</th>\n",
       "      <th>seller_id</th>\n",
       "      <th>pickup_limit_date</th>\n",
       "      <th>price</th>\n",
       "      <th>shipping_cost</th>\n",
       "    </tr>\n",
       "  </thead>\n",
       "  <tbody>\n",
       "    <tr>\n",
       "      <th>112645</th>\n",
       "      <td>fffc94f6ce00a00581880bf54a75a037</td>\n",
       "      <td>1</td>\n",
       "      <td>4aa6014eceb682077f9dc4bffebc05b0</td>\n",
       "      <td>b8bc237ba3788b23da09c0f1f3a3288c</td>\n",
       "      <td>2018-05-02 04:11:01</td>\n",
       "      <td>299990.0</td>\n",
       "      <td>43410.0</td>\n",
       "    </tr>\n",
       "    <tr>\n",
       "      <th>112646</th>\n",
       "      <td>fffcd46ef2263f404302a634eb57f7eb</td>\n",
       "      <td>1</td>\n",
       "      <td>32e07fd915822b0765e448c4dd74c828</td>\n",
       "      <td>f3c38ab652836d21de61fb8314b69182</td>\n",
       "      <td>2018-07-20 04:31:48</td>\n",
       "      <td>350000.0</td>\n",
       "      <td>36530.0</td>\n",
       "    </tr>\n",
       "    <tr>\n",
       "      <th>112647</th>\n",
       "      <td>fffce4705a9662cd70adb13d4a31832d</td>\n",
       "      <td>1</td>\n",
       "      <td>72a30483855e2eafc67aee5dc2560482</td>\n",
       "      <td>c3cfdc648177fdbbbb35635a37472c53</td>\n",
       "      <td>2017-10-30 17:14:25</td>\n",
       "      <td>99900.0</td>\n",
       "      <td>16950.0</td>\n",
       "    </tr>\n",
       "    <tr>\n",
       "      <th>112648</th>\n",
       "      <td>fffe18544ffabc95dfada21779c9644f</td>\n",
       "      <td>1</td>\n",
       "      <td>9c422a519119dcad7575db5af1ba540e</td>\n",
       "      <td>2b3e4a2a3ea8e01938cabda2a3e5cc79</td>\n",
       "      <td>2017-08-21 00:04:32</td>\n",
       "      <td>55990.0</td>\n",
       "      <td>8720.0</td>\n",
       "    </tr>\n",
       "    <tr>\n",
       "      <th>112649</th>\n",
       "      <td>fffe41c64501cc87c801fd61db3f6244</td>\n",
       "      <td>1</td>\n",
       "      <td>350688d9dc1e75ff97be326363655e01</td>\n",
       "      <td>f7ccf836d21b2fb1de37564105216cc1</td>\n",
       "      <td>2018-06-12 17:10:13</td>\n",
       "      <td>43000.0</td>\n",
       "      <td>12790.0</td>\n",
       "    </tr>\n",
       "  </tbody>\n",
       "</table>\n",
       "</div>"
      ],
      "text/plain": [
       "                                order_id  order_item_id  \\\n",
       "112645  fffc94f6ce00a00581880bf54a75a037              1   \n",
       "112646  fffcd46ef2263f404302a634eb57f7eb              1   \n",
       "112647  fffce4705a9662cd70adb13d4a31832d              1   \n",
       "112648  fffe18544ffabc95dfada21779c9644f              1   \n",
       "112649  fffe41c64501cc87c801fd61db3f6244              1   \n",
       "\n",
       "                              product_id                         seller_id  \\\n",
       "112645  4aa6014eceb682077f9dc4bffebc05b0  b8bc237ba3788b23da09c0f1f3a3288c   \n",
       "112646  32e07fd915822b0765e448c4dd74c828  f3c38ab652836d21de61fb8314b69182   \n",
       "112647  72a30483855e2eafc67aee5dc2560482  c3cfdc648177fdbbbb35635a37472c53   \n",
       "112648  9c422a519119dcad7575db5af1ba540e  2b3e4a2a3ea8e01938cabda2a3e5cc79   \n",
       "112649  350688d9dc1e75ff97be326363655e01  f7ccf836d21b2fb1de37564105216cc1   \n",
       "\n",
       "          pickup_limit_date     price  shipping_cost  \n",
       "112645  2018-05-02 04:11:01  299990.0        43410.0  \n",
       "112646  2018-07-20 04:31:48  350000.0        36530.0  \n",
       "112647  2017-10-30 17:14:25   99900.0        16950.0  \n",
       "112648  2017-08-21 00:04:32   55990.0         8720.0  \n",
       "112649  2018-06-12 17:10:13   43000.0        12790.0  "
      ]
     },
     "execution_count": 28,
     "metadata": {},
     "output_type": "execute_result"
    }
   ],
   "source": [
    "df.tail()"
   ]
  },
  {
   "cell_type": "code",
   "execution_count": 29,
   "id": "60d7296c",
   "metadata": {},
   "outputs": [
    {
     "name": "stdout",
     "output_type": "stream",
     "text": [
      "<class 'pandas.core.frame.DataFrame'>\n",
      "RangeIndex: 112650 entries, 0 to 112649\n",
      "Data columns (total 7 columns):\n",
      " #   Column             Non-Null Count   Dtype  \n",
      "---  ------             --------------   -----  \n",
      " 0   order_id           112650 non-null  object \n",
      " 1   order_item_id      112650 non-null  int64  \n",
      " 2   product_id         112650 non-null  object \n",
      " 3   seller_id          112650 non-null  object \n",
      " 4   pickup_limit_date  112650 non-null  object \n",
      " 5   price              112650 non-null  float64\n",
      " 6   shipping_cost      112650 non-null  float64\n",
      "dtypes: float64(2), int64(1), object(4)\n",
      "memory usage: 6.0+ MB\n"
     ]
    }
   ],
   "source": [
    "df.info()"
   ]
  },
  {
   "cell_type": "code",
   "execution_count": 30,
   "id": "0edda005",
   "metadata": {},
   "outputs": [],
   "source": [
    "df['order_id'] = df['order_id'].astype(\"string\")"
   ]
  },
  {
   "cell_type": "code",
   "execution_count": 31,
   "id": "8c64a0af",
   "metadata": {},
   "outputs": [],
   "source": [
    "df['product_id'] = df['product_id'].astype(\"string\")"
   ]
  },
  {
   "cell_type": "code",
   "execution_count": 32,
   "id": "9c3b9a71",
   "metadata": {},
   "outputs": [],
   "source": [
    "df['seller_id'] = df['seller_id'].astype(\"string\")"
   ]
  },
  {
   "cell_type": "code",
   "execution_count": 33,
   "id": "8a796df8",
   "metadata": {},
   "outputs": [],
   "source": [
    "df = df.drop('order_item_id', axis=1)"
   ]
  },
  {
   "cell_type": "code",
   "execution_count": 34,
   "id": "1f57924b",
   "metadata": {},
   "outputs": [],
   "source": [
    "df['pickup_limit_date'] = pd.to_datetime(df['pickup_limit_date'])"
   ]
  },
  {
   "cell_type": "code",
   "execution_count": 35,
   "id": "a1330f74",
   "metadata": {},
   "outputs": [],
   "source": [
    "# Export the DataFrame to a CSV file\n",
    "df.to_csv('sales55.csv', index=False)"
   ]
  },
  {
   "cell_type": "code",
   "execution_count": 36,
   "id": "234e6a15",
   "metadata": {},
   "outputs": [],
   "source": [
    "df10 = pd.read_csv('sales55.csv')"
   ]
  },
  {
   "cell_type": "code",
   "execution_count": 53,
   "id": "ada099cc",
   "metadata": {},
   "outputs": [
    {
     "data": {
      "text/html": [
       "<div>\n",
       "<style scoped>\n",
       "    .dataframe tbody tr th:only-of-type {\n",
       "        vertical-align: middle;\n",
       "    }\n",
       "\n",
       "    .dataframe tbody tr th {\n",
       "        vertical-align: top;\n",
       "    }\n",
       "\n",
       "    .dataframe thead th {\n",
       "        text-align: right;\n",
       "    }\n",
       "</style>\n",
       "<table border=\"1\" class=\"dataframe\">\n",
       "  <thead>\n",
       "    <tr style=\"text-align: right;\">\n",
       "      <th></th>\n",
       "      <th>order_id</th>\n",
       "      <th>user_id</th>\n",
       "      <th>product_id</th>\n",
       "      <th>feedback_id</th>\n",
       "      <th>seller_id</th>\n",
       "      <th>payment_id</th>\n",
       "      <th>pickup_limit_date</th>\n",
       "      <th>price</th>\n",
       "      <th>shipping_cost</th>\n",
       "    </tr>\n",
       "  </thead>\n",
       "  <tbody>\n",
       "    <tr>\n",
       "      <th>0</th>\n",
       "      <td>00010242fe8c5a6d1ba2dd792cb16214</td>\n",
       "      <td>861eff4711a542e4b93843c6dd7febb0</td>\n",
       "      <td>4244733e06e7ecb4970a6e2683c13e61</td>\n",
       "      <td>7bc2406110b926393aa56f80a40eba40</td>\n",
       "      <td>48436dade18ac8b2bce089ec2a041202</td>\n",
       "      <td>1.0</td>\n",
       "      <td>2017-09-19 09:45:35</td>\n",
       "      <td>58900.0</td>\n",
       "      <td>13290.0</td>\n",
       "    </tr>\n",
       "    <tr>\n",
       "      <th>1</th>\n",
       "      <td>00018f77f2f0320c557190d7a144bdd3</td>\n",
       "      <td>290c77bc529b7ac935b93aa66c333dc3</td>\n",
       "      <td>e5f2d52b802189ee658865ca93d83a8f</td>\n",
       "      <td>80e641a11e56f04c1ad469d5645fdfde</td>\n",
       "      <td>dd7ddc04e1b6c2c614352b383efe2d36</td>\n",
       "      <td>2.0</td>\n",
       "      <td>2017-05-03 11:05:13</td>\n",
       "      <td>239900.0</td>\n",
       "      <td>19930.0</td>\n",
       "    </tr>\n",
       "    <tr>\n",
       "      <th>2</th>\n",
       "      <td>000229ec398224ef6ca0657da4fc703e</td>\n",
       "      <td>060e732b5b29e8181a18229c7b0b2b5e</td>\n",
       "      <td>c777355d18b72b67abbeef9df44fd0fd</td>\n",
       "      <td>228ce5500dc1d8e020d8d1322874b6f0</td>\n",
       "      <td>5b51032eddd242adc84c38acab88f23d</td>\n",
       "      <td>3.0</td>\n",
       "      <td>2018-01-18 14:48:30</td>\n",
       "      <td>199000.0</td>\n",
       "      <td>17870.0</td>\n",
       "    </tr>\n",
       "    <tr>\n",
       "      <th>3</th>\n",
       "      <td>00024acbcdf0a6daa1e931b038114c75</td>\n",
       "      <td>259dac757896d24d7702b9acbbff3f3c</td>\n",
       "      <td>7634da152a4610f1595efa32f14722fc</td>\n",
       "      <td>e64fb393e7b32834bb789ff8bb30750e</td>\n",
       "      <td>9d7a1d34a5052409006425275ba1c2b4</td>\n",
       "      <td>4.0</td>\n",
       "      <td>2018-08-15 10:10:18</td>\n",
       "      <td>12990.0</td>\n",
       "      <td>12790.0</td>\n",
       "    </tr>\n",
       "    <tr>\n",
       "      <th>4</th>\n",
       "      <td>00042b26cf59d7ce69dfabb4e55b4fd9</td>\n",
       "      <td>345ecd01c38d18a9036ed96c73b8d066</td>\n",
       "      <td>ac6c3623068f30de03045865e4e10089</td>\n",
       "      <td>f7c4243c7fe1938f181bec41a392bdeb</td>\n",
       "      <td>df560393f3a51e74553ab94004ba5c87</td>\n",
       "      <td>5.0</td>\n",
       "      <td>2017-02-13 13:57:51</td>\n",
       "      <td>199900.0</td>\n",
       "      <td>18140.0</td>\n",
       "    </tr>\n",
       "  </tbody>\n",
       "</table>\n",
       "</div>"
      ],
      "text/plain": [
       "                           order_id                           user_id  \\\n",
       "0  00010242fe8c5a6d1ba2dd792cb16214  861eff4711a542e4b93843c6dd7febb0   \n",
       "1  00018f77f2f0320c557190d7a144bdd3  290c77bc529b7ac935b93aa66c333dc3   \n",
       "2  000229ec398224ef6ca0657da4fc703e  060e732b5b29e8181a18229c7b0b2b5e   \n",
       "3  00024acbcdf0a6daa1e931b038114c75  259dac757896d24d7702b9acbbff3f3c   \n",
       "4  00042b26cf59d7ce69dfabb4e55b4fd9  345ecd01c38d18a9036ed96c73b8d066   \n",
       "\n",
       "                         product_id                       feedback_id  \\\n",
       "0  4244733e06e7ecb4970a6e2683c13e61  7bc2406110b926393aa56f80a40eba40   \n",
       "1  e5f2d52b802189ee658865ca93d83a8f  80e641a11e56f04c1ad469d5645fdfde   \n",
       "2  c777355d18b72b67abbeef9df44fd0fd  228ce5500dc1d8e020d8d1322874b6f0   \n",
       "3  7634da152a4610f1595efa32f14722fc  e64fb393e7b32834bb789ff8bb30750e   \n",
       "4  ac6c3623068f30de03045865e4e10089  f7c4243c7fe1938f181bec41a392bdeb   \n",
       "\n",
       "                          seller_id  payment_id    pickup_limit_date  \\\n",
       "0  48436dade18ac8b2bce089ec2a041202         1.0  2017-09-19 09:45:35   \n",
       "1  dd7ddc04e1b6c2c614352b383efe2d36         2.0  2017-05-03 11:05:13   \n",
       "2  5b51032eddd242adc84c38acab88f23d         3.0  2018-01-18 14:48:30   \n",
       "3  9d7a1d34a5052409006425275ba1c2b4         4.0  2018-08-15 10:10:18   \n",
       "4  df560393f3a51e74553ab94004ba5c87         5.0  2017-02-13 13:57:51   \n",
       "\n",
       "      price  shipping_cost  \n",
       "0   58900.0        13290.0  \n",
       "1  239900.0        19930.0  \n",
       "2  199000.0        17870.0  \n",
       "3   12990.0        12790.0  \n",
       "4  199900.0        18140.0  "
      ]
     },
     "execution_count": 53,
     "metadata": {},
     "output_type": "execute_result"
    }
   ],
   "source": [
    "df10.head()"
   ]
  },
  {
   "cell_type": "code",
   "execution_count": 38,
   "id": "74592ee6",
   "metadata": {},
   "outputs": [],
   "source": [
    "df11 = pd.read_csv('user_dataset_1.csv')"
   ]
  },
  {
   "cell_type": "code",
   "execution_count": 40,
   "id": "7edaf52a",
   "metadata": {},
   "outputs": [],
   "source": [
    "df10['user_id'] = df11['user_id']"
   ]
  },
  {
   "cell_type": "code",
   "execution_count": 43,
   "id": "31f1d483",
   "metadata": {},
   "outputs": [],
   "source": [
    "df12 = pd.read_csv('feedback_dataset_1.csv')"
   ]
  },
  {
   "cell_type": "code",
   "execution_count": 45,
   "id": "cb7e0712",
   "metadata": {},
   "outputs": [],
   "source": [
    "df10['feedback_id'] = df12['feedback_id']"
   ]
  },
  {
   "cell_type": "code",
   "execution_count": 47,
   "id": "31a0730e",
   "metadata": {},
   "outputs": [],
   "source": [
    "df13 = pd.read_csv('payment_dataset_1.csv')"
   ]
  },
  {
   "cell_type": "code",
   "execution_count": 49,
   "id": "dc9adadd",
   "metadata": {},
   "outputs": [],
   "source": [
    "df10['payment_id'] = df13['payment_id']"
   ]
  },
  {
   "cell_type": "code",
   "execution_count": 68,
   "id": "783e6b07",
   "metadata": {},
   "outputs": [
    {
     "ename": "KeyError",
     "evalue": "\"['payment_id'] not in index\"",
     "output_type": "error",
     "traceback": [
      "\u001b[1;31m---------------------------------------------------------------------------\u001b[0m",
      "\u001b[1;31mKeyError\u001b[0m                                  Traceback (most recent call last)",
      "\u001b[1;32m~\\AppData\\Local\\Temp\\ipykernel_14284\\3540281985.py\u001b[0m in \u001b[0;36m<cell line: 2>\u001b[1;34m()\u001b[0m\n\u001b[0;32m      1\u001b[0m \u001b[1;31m# altering the DataFrame\u001b[0m\u001b[1;33m\u001b[0m\u001b[1;33m\u001b[0m\u001b[0m\n\u001b[1;32m----> 2\u001b[1;33m \u001b[0mdf10\u001b[0m \u001b[1;33m=\u001b[0m \u001b[0mdf10\u001b[0m\u001b[1;33m[\u001b[0m\u001b[1;33m[\u001b[0m\u001b[1;34m'order_id'\u001b[0m\u001b[1;33m,\u001b[0m \u001b[1;34m'user_id'\u001b[0m\u001b[1;33m,\u001b[0m \u001b[1;34m'product_id'\u001b[0m\u001b[1;33m,\u001b[0m\u001b[1;34m'feedback_id'\u001b[0m\u001b[1;33m,\u001b[0m\u001b[1;34m'seller_id'\u001b[0m\u001b[1;33m,\u001b[0m\u001b[1;34m'payment_id'\u001b[0m\u001b[1;33m,\u001b[0m\u001b[1;34m'pickup_limit_date'\u001b[0m\u001b[1;33m,\u001b[0m\u001b[1;34m'price'\u001b[0m\u001b[1;33m,\u001b[0m\u001b[1;34m'shipping_cost'\u001b[0m\u001b[1;33m]\u001b[0m\u001b[1;33m]\u001b[0m\u001b[1;33m\u001b[0m\u001b[1;33m\u001b[0m\u001b[0m\n\u001b[0m",
      "\u001b[1;32mE:\\anacondaaa\\lib\\site-packages\\pandas\\core\\frame.py\u001b[0m in \u001b[0;36m__getitem__\u001b[1;34m(self, key)\u001b[0m\n\u001b[0;32m   3462\u001b[0m             \u001b[1;32mif\u001b[0m \u001b[0mis_iterator\u001b[0m\u001b[1;33m(\u001b[0m\u001b[0mkey\u001b[0m\u001b[1;33m)\u001b[0m\u001b[1;33m:\u001b[0m\u001b[1;33m\u001b[0m\u001b[1;33m\u001b[0m\u001b[0m\n\u001b[0;32m   3463\u001b[0m                 \u001b[0mkey\u001b[0m \u001b[1;33m=\u001b[0m \u001b[0mlist\u001b[0m\u001b[1;33m(\u001b[0m\u001b[0mkey\u001b[0m\u001b[1;33m)\u001b[0m\u001b[1;33m\u001b[0m\u001b[1;33m\u001b[0m\u001b[0m\n\u001b[1;32m-> 3464\u001b[1;33m             \u001b[0mindexer\u001b[0m \u001b[1;33m=\u001b[0m \u001b[0mself\u001b[0m\u001b[1;33m.\u001b[0m\u001b[0mloc\u001b[0m\u001b[1;33m.\u001b[0m\u001b[0m_get_listlike_indexer\u001b[0m\u001b[1;33m(\u001b[0m\u001b[0mkey\u001b[0m\u001b[1;33m,\u001b[0m \u001b[0maxis\u001b[0m\u001b[1;33m=\u001b[0m\u001b[1;36m1\u001b[0m\u001b[1;33m)\u001b[0m\u001b[1;33m[\u001b[0m\u001b[1;36m1\u001b[0m\u001b[1;33m]\u001b[0m\u001b[1;33m\u001b[0m\u001b[1;33m\u001b[0m\u001b[0m\n\u001b[0m\u001b[0;32m   3465\u001b[0m \u001b[1;33m\u001b[0m\u001b[0m\n\u001b[0;32m   3466\u001b[0m         \u001b[1;31m# take() does not accept boolean indexers\u001b[0m\u001b[1;33m\u001b[0m\u001b[1;33m\u001b[0m\u001b[0m\n",
      "\u001b[1;32mE:\\anacondaaa\\lib\\site-packages\\pandas\\core\\indexing.py\u001b[0m in \u001b[0;36m_get_listlike_indexer\u001b[1;34m(self, key, axis)\u001b[0m\n\u001b[0;32m   1312\u001b[0m             \u001b[0mkeyarr\u001b[0m\u001b[1;33m,\u001b[0m \u001b[0mindexer\u001b[0m\u001b[1;33m,\u001b[0m \u001b[0mnew_indexer\u001b[0m \u001b[1;33m=\u001b[0m \u001b[0max\u001b[0m\u001b[1;33m.\u001b[0m\u001b[0m_reindex_non_unique\u001b[0m\u001b[1;33m(\u001b[0m\u001b[0mkeyarr\u001b[0m\u001b[1;33m)\u001b[0m\u001b[1;33m\u001b[0m\u001b[1;33m\u001b[0m\u001b[0m\n\u001b[0;32m   1313\u001b[0m \u001b[1;33m\u001b[0m\u001b[0m\n\u001b[1;32m-> 1314\u001b[1;33m         \u001b[0mself\u001b[0m\u001b[1;33m.\u001b[0m\u001b[0m_validate_read_indexer\u001b[0m\u001b[1;33m(\u001b[0m\u001b[0mkeyarr\u001b[0m\u001b[1;33m,\u001b[0m \u001b[0mindexer\u001b[0m\u001b[1;33m,\u001b[0m \u001b[0maxis\u001b[0m\u001b[1;33m)\u001b[0m\u001b[1;33m\u001b[0m\u001b[1;33m\u001b[0m\u001b[0m\n\u001b[0m\u001b[0;32m   1315\u001b[0m \u001b[1;33m\u001b[0m\u001b[0m\n\u001b[0;32m   1316\u001b[0m         if needs_i8_conversion(ax.dtype) or isinstance(\n",
      "\u001b[1;32mE:\\anacondaaa\\lib\\site-packages\\pandas\\core\\indexing.py\u001b[0m in \u001b[0;36m_validate_read_indexer\u001b[1;34m(self, key, indexer, axis)\u001b[0m\n\u001b[0;32m   1375\u001b[0m \u001b[1;33m\u001b[0m\u001b[0m\n\u001b[0;32m   1376\u001b[0m             \u001b[0mnot_found\u001b[0m \u001b[1;33m=\u001b[0m \u001b[0mlist\u001b[0m\u001b[1;33m(\u001b[0m\u001b[0mensure_index\u001b[0m\u001b[1;33m(\u001b[0m\u001b[0mkey\u001b[0m\u001b[1;33m)\u001b[0m\u001b[1;33m[\u001b[0m\u001b[0mmissing_mask\u001b[0m\u001b[1;33m.\u001b[0m\u001b[0mnonzero\u001b[0m\u001b[1;33m(\u001b[0m\u001b[1;33m)\u001b[0m\u001b[1;33m[\u001b[0m\u001b[1;36m0\u001b[0m\u001b[1;33m]\u001b[0m\u001b[1;33m]\u001b[0m\u001b[1;33m.\u001b[0m\u001b[0munique\u001b[0m\u001b[1;33m(\u001b[0m\u001b[1;33m)\u001b[0m\u001b[1;33m)\u001b[0m\u001b[1;33m\u001b[0m\u001b[1;33m\u001b[0m\u001b[0m\n\u001b[1;32m-> 1377\u001b[1;33m             \u001b[1;32mraise\u001b[0m \u001b[0mKeyError\u001b[0m\u001b[1;33m(\u001b[0m\u001b[1;34mf\"{not_found} not in index\"\u001b[0m\u001b[1;33m)\u001b[0m\u001b[1;33m\u001b[0m\u001b[1;33m\u001b[0m\u001b[0m\n\u001b[0m\u001b[0;32m   1378\u001b[0m \u001b[1;33m\u001b[0m\u001b[0m\n\u001b[0;32m   1379\u001b[0m \u001b[1;33m\u001b[0m\u001b[0m\n",
      "\u001b[1;31mKeyError\u001b[0m: \"['payment_id'] not in index\""
     ]
    }
   ],
   "source": [
    "# altering the DataFrame\n",
    "df10 = df10[['order_id', 'user_id', 'product_id','feedback_id','seller_id','payment_id','pickup_limit_date','price','shipping_cost']]"
   ]
  },
  {
   "cell_type": "code",
   "execution_count": 65,
   "id": "1701f85d",
   "metadata": {},
   "outputs": [
    {
     "name": "stdout",
     "output_type": "stream",
     "text": [
      "<class 'pandas.core.frame.DataFrame'>\n",
      "RangeIndex: 112650 entries, 0 to 112649\n",
      "Data columns (total 9 columns):\n",
      " #   Column             Non-Null Count   Dtype         \n",
      "---  ------             --------------   -----         \n",
      " 0   order_id           112650 non-null  string        \n",
      " 1   user_id            99441 non-null   string        \n",
      " 2   product_id         112650 non-null  string        \n",
      " 3   feedback_id        100000 non-null  string        \n",
      " 4   seller_id          112650 non-null  string        \n",
      " 5   pickup_limit_date  112650 non-null  datetime64[ns]\n",
      " 6   price              112650 non-null  float64       \n",
      " 7   shipping_cost      112650 non-null  float64       \n",
      " 8   payment_id         103886 non-null  Int64         \n",
      "dtypes: Int64(1), datetime64[ns](1), float64(2), string(5)\n",
      "memory usage: 7.8 MB\n"
     ]
    }
   ],
   "source": [
    "df10.info()"
   ]
  },
  {
   "cell_type": "code",
   "execution_count": 56,
   "id": "b3a171a9",
   "metadata": {},
   "outputs": [],
   "source": [
    "df10['pickup_limit_date'] = pd.to_datetime(df10['pickup_limit_date'])"
   ]
  },
  {
   "cell_type": "code",
   "execution_count": 61,
   "id": "e0514759",
   "metadata": {},
   "outputs": [],
   "source": [
    "df10['order_id'] = df10['order_id'].astype(\"string\")\n",
    "df10['user_id'] = df10['user_id'].astype(\"string\")\n",
    "df10['product_id'] = df10['product_id'].astype(\"string\")\n",
    "df10['feedback_id'] = df10['feedback_id'].astype(\"string\")\n",
    "df10['seller_id'] = df10['seller_id'].astype(\"string\")\n",
    "df10['payment_id '] = df10['payment_id'].astype(\"Int64\")"
   ]
  },
  {
   "cell_type": "code",
   "execution_count": 64,
   "id": "203ed6f5",
   "metadata": {},
   "outputs": [],
   "source": [
    "df10 = df10.drop('payment_id', axis=1)"
   ]
  },
  {
   "cell_type": "code",
   "execution_count": 67,
   "id": "40f5878d",
   "metadata": {},
   "outputs": [
    {
     "data": {
      "text/html": [
       "<div>\n",
       "<style scoped>\n",
       "    .dataframe tbody tr th:only-of-type {\n",
       "        vertical-align: middle;\n",
       "    }\n",
       "\n",
       "    .dataframe tbody tr th {\n",
       "        vertical-align: top;\n",
       "    }\n",
       "\n",
       "    .dataframe thead th {\n",
       "        text-align: right;\n",
       "    }\n",
       "</style>\n",
       "<table border=\"1\" class=\"dataframe\">\n",
       "  <thead>\n",
       "    <tr style=\"text-align: right;\">\n",
       "      <th></th>\n",
       "      <th>order_id</th>\n",
       "      <th>user_id</th>\n",
       "      <th>product_id</th>\n",
       "      <th>feedback_id</th>\n",
       "      <th>seller_id</th>\n",
       "      <th>pickup_limit_date</th>\n",
       "      <th>price</th>\n",
       "      <th>shipping_cost</th>\n",
       "      <th>payment_id</th>\n",
       "    </tr>\n",
       "  </thead>\n",
       "  <tbody>\n",
       "    <tr>\n",
       "      <th>0</th>\n",
       "      <td>00010242fe8c5a6d1ba2dd792cb16214</td>\n",
       "      <td>861eff4711a542e4b93843c6dd7febb0</td>\n",
       "      <td>4244733e06e7ecb4970a6e2683c13e61</td>\n",
       "      <td>7bc2406110b926393aa56f80a40eba40</td>\n",
       "      <td>48436dade18ac8b2bce089ec2a041202</td>\n",
       "      <td>2017-09-19 09:45:35</td>\n",
       "      <td>58900.0</td>\n",
       "      <td>13290.0</td>\n",
       "      <td>1</td>\n",
       "    </tr>\n",
       "    <tr>\n",
       "      <th>1</th>\n",
       "      <td>00018f77f2f0320c557190d7a144bdd3</td>\n",
       "      <td>290c77bc529b7ac935b93aa66c333dc3</td>\n",
       "      <td>e5f2d52b802189ee658865ca93d83a8f</td>\n",
       "      <td>80e641a11e56f04c1ad469d5645fdfde</td>\n",
       "      <td>dd7ddc04e1b6c2c614352b383efe2d36</td>\n",
       "      <td>2017-05-03 11:05:13</td>\n",
       "      <td>239900.0</td>\n",
       "      <td>19930.0</td>\n",
       "      <td>2</td>\n",
       "    </tr>\n",
       "    <tr>\n",
       "      <th>2</th>\n",
       "      <td>000229ec398224ef6ca0657da4fc703e</td>\n",
       "      <td>060e732b5b29e8181a18229c7b0b2b5e</td>\n",
       "      <td>c777355d18b72b67abbeef9df44fd0fd</td>\n",
       "      <td>228ce5500dc1d8e020d8d1322874b6f0</td>\n",
       "      <td>5b51032eddd242adc84c38acab88f23d</td>\n",
       "      <td>2018-01-18 14:48:30</td>\n",
       "      <td>199000.0</td>\n",
       "      <td>17870.0</td>\n",
       "      <td>3</td>\n",
       "    </tr>\n",
       "    <tr>\n",
       "      <th>3</th>\n",
       "      <td>00024acbcdf0a6daa1e931b038114c75</td>\n",
       "      <td>259dac757896d24d7702b9acbbff3f3c</td>\n",
       "      <td>7634da152a4610f1595efa32f14722fc</td>\n",
       "      <td>e64fb393e7b32834bb789ff8bb30750e</td>\n",
       "      <td>9d7a1d34a5052409006425275ba1c2b4</td>\n",
       "      <td>2018-08-15 10:10:18</td>\n",
       "      <td>12990.0</td>\n",
       "      <td>12790.0</td>\n",
       "      <td>4</td>\n",
       "    </tr>\n",
       "    <tr>\n",
       "      <th>4</th>\n",
       "      <td>00042b26cf59d7ce69dfabb4e55b4fd9</td>\n",
       "      <td>345ecd01c38d18a9036ed96c73b8d066</td>\n",
       "      <td>ac6c3623068f30de03045865e4e10089</td>\n",
       "      <td>f7c4243c7fe1938f181bec41a392bdeb</td>\n",
       "      <td>df560393f3a51e74553ab94004ba5c87</td>\n",
       "      <td>2017-02-13 13:57:51</td>\n",
       "      <td>199900.0</td>\n",
       "      <td>18140.0</td>\n",
       "      <td>5</td>\n",
       "    </tr>\n",
       "  </tbody>\n",
       "</table>\n",
       "</div>"
      ],
      "text/plain": [
       "                           order_id                           user_id  \\\n",
       "0  00010242fe8c5a6d1ba2dd792cb16214  861eff4711a542e4b93843c6dd7febb0   \n",
       "1  00018f77f2f0320c557190d7a144bdd3  290c77bc529b7ac935b93aa66c333dc3   \n",
       "2  000229ec398224ef6ca0657da4fc703e  060e732b5b29e8181a18229c7b0b2b5e   \n",
       "3  00024acbcdf0a6daa1e931b038114c75  259dac757896d24d7702b9acbbff3f3c   \n",
       "4  00042b26cf59d7ce69dfabb4e55b4fd9  345ecd01c38d18a9036ed96c73b8d066   \n",
       "\n",
       "                         product_id                       feedback_id  \\\n",
       "0  4244733e06e7ecb4970a6e2683c13e61  7bc2406110b926393aa56f80a40eba40   \n",
       "1  e5f2d52b802189ee658865ca93d83a8f  80e641a11e56f04c1ad469d5645fdfde   \n",
       "2  c777355d18b72b67abbeef9df44fd0fd  228ce5500dc1d8e020d8d1322874b6f0   \n",
       "3  7634da152a4610f1595efa32f14722fc  e64fb393e7b32834bb789ff8bb30750e   \n",
       "4  ac6c3623068f30de03045865e4e10089  f7c4243c7fe1938f181bec41a392bdeb   \n",
       "\n",
       "                          seller_id   pickup_limit_date     price  \\\n",
       "0  48436dade18ac8b2bce089ec2a041202 2017-09-19 09:45:35   58900.0   \n",
       "1  dd7ddc04e1b6c2c614352b383efe2d36 2017-05-03 11:05:13  239900.0   \n",
       "2  5b51032eddd242adc84c38acab88f23d 2018-01-18 14:48:30  199000.0   \n",
       "3  9d7a1d34a5052409006425275ba1c2b4 2018-08-15 10:10:18   12990.0   \n",
       "4  df560393f3a51e74553ab94004ba5c87 2017-02-13 13:57:51  199900.0   \n",
       "\n",
       "   shipping_cost  payment_id   \n",
       "0        13290.0            1  \n",
       "1        19930.0            2  \n",
       "2        17870.0            3  \n",
       "3        12790.0            4  \n",
       "4        18140.0            5  "
      ]
     },
     "execution_count": 67,
     "metadata": {},
     "output_type": "execute_result"
    }
   ],
   "source": [
    "df10.head()"
   ]
  },
  {
   "cell_type": "code",
   "execution_count": 72,
   "id": "0b9e28c3",
   "metadata": {},
   "outputs": [],
   "source": [
    "# Export the DataFrame to a CSV file\n",
    "df10.to_csv('sales55502.csv', index=False)"
   ]
  },
  {
   "cell_type": "markdown",
   "id": "026cf82b",
   "metadata": {},
   "source": [
    "#### ==============================================================================================================="
   ]
  },
  {
   "cell_type": "code",
   "execution_count": 10,
   "id": "d8c34960",
   "metadata": {},
   "outputs": [
    {
     "name": "stdout",
     "output_type": "stream",
     "text": [
      "<class 'pandas.core.frame.DataFrame'>\n",
      "RangeIndex: 112650 entries, 0 to 112649\n",
      "Data columns (total 7 columns):\n",
      " #   Column             Non-Null Count   Dtype  \n",
      "---  ------             --------------   -----  \n",
      " 0   order_id           112650 non-null  object \n",
      " 1   order_item_id      112650 non-null  int64  \n",
      " 2   product_id         112650 non-null  object \n",
      " 3   seller_id          112650 non-null  object \n",
      " 4   pickup_limit_date  112650 non-null  object \n",
      " 5   price              112650 non-null  float64\n",
      " 6   shipping_cost      112650 non-null  float64\n",
      "dtypes: float64(2), int64(1), object(4)\n",
      "memory usage: 6.0+ MB\n"
     ]
    }
   ],
   "source": [
    "df.info()"
   ]
  },
  {
   "cell_type": "code",
   "execution_count": 12,
   "id": "561dfe61",
   "metadata": {},
   "outputs": [
    {
     "data": {
      "text/html": [
       "<div>\n",
       "<style scoped>\n",
       "    .dataframe tbody tr th:only-of-type {\n",
       "        vertical-align: middle;\n",
       "    }\n",
       "\n",
       "    .dataframe tbody tr th {\n",
       "        vertical-align: top;\n",
       "    }\n",
       "\n",
       "    .dataframe thead th {\n",
       "        text-align: right;\n",
       "    }\n",
       "</style>\n",
       "<table border=\"1\" class=\"dataframe\">\n",
       "  <thead>\n",
       "    <tr style=\"text-align: right;\">\n",
       "      <th></th>\n",
       "      <th>order_id</th>\n",
       "      <th>order_item_id</th>\n",
       "      <th>product_id</th>\n",
       "      <th>seller_id</th>\n",
       "      <th>pickup_limit_date</th>\n",
       "      <th>price</th>\n",
       "      <th>shipping_cost</th>\n",
       "    </tr>\n",
       "  </thead>\n",
       "  <tbody>\n",
       "    <tr>\n",
       "      <th>0</th>\n",
       "      <td>True</td>\n",
       "      <td>True</td>\n",
       "      <td>True</td>\n",
       "      <td>True</td>\n",
       "      <td>True</td>\n",
       "      <td>True</td>\n",
       "      <td>True</td>\n",
       "    </tr>\n",
       "    <tr>\n",
       "      <th>1</th>\n",
       "      <td>True</td>\n",
       "      <td>True</td>\n",
       "      <td>True</td>\n",
       "      <td>True</td>\n",
       "      <td>True</td>\n",
       "      <td>True</td>\n",
       "      <td>True</td>\n",
       "    </tr>\n",
       "    <tr>\n",
       "      <th>2</th>\n",
       "      <td>True</td>\n",
       "      <td>True</td>\n",
       "      <td>True</td>\n",
       "      <td>True</td>\n",
       "      <td>True</td>\n",
       "      <td>True</td>\n",
       "      <td>True</td>\n",
       "    </tr>\n",
       "    <tr>\n",
       "      <th>3</th>\n",
       "      <td>True</td>\n",
       "      <td>True</td>\n",
       "      <td>True</td>\n",
       "      <td>True</td>\n",
       "      <td>True</td>\n",
       "      <td>True</td>\n",
       "      <td>True</td>\n",
       "    </tr>\n",
       "    <tr>\n",
       "      <th>4</th>\n",
       "      <td>True</td>\n",
       "      <td>True</td>\n",
       "      <td>True</td>\n",
       "      <td>True</td>\n",
       "      <td>True</td>\n",
       "      <td>True</td>\n",
       "      <td>True</td>\n",
       "    </tr>\n",
       "    <tr>\n",
       "      <th>...</th>\n",
       "      <td>...</td>\n",
       "      <td>...</td>\n",
       "      <td>...</td>\n",
       "      <td>...</td>\n",
       "      <td>...</td>\n",
       "      <td>...</td>\n",
       "      <td>...</td>\n",
       "    </tr>\n",
       "    <tr>\n",
       "      <th>112645</th>\n",
       "      <td>True</td>\n",
       "      <td>True</td>\n",
       "      <td>True</td>\n",
       "      <td>True</td>\n",
       "      <td>True</td>\n",
       "      <td>True</td>\n",
       "      <td>True</td>\n",
       "    </tr>\n",
       "    <tr>\n",
       "      <th>112646</th>\n",
       "      <td>True</td>\n",
       "      <td>True</td>\n",
       "      <td>True</td>\n",
       "      <td>True</td>\n",
       "      <td>True</td>\n",
       "      <td>True</td>\n",
       "      <td>True</td>\n",
       "    </tr>\n",
       "    <tr>\n",
       "      <th>112647</th>\n",
       "      <td>True</td>\n",
       "      <td>True</td>\n",
       "      <td>True</td>\n",
       "      <td>True</td>\n",
       "      <td>True</td>\n",
       "      <td>True</td>\n",
       "      <td>True</td>\n",
       "    </tr>\n",
       "    <tr>\n",
       "      <th>112648</th>\n",
       "      <td>True</td>\n",
       "      <td>True</td>\n",
       "      <td>True</td>\n",
       "      <td>True</td>\n",
       "      <td>True</td>\n",
       "      <td>True</td>\n",
       "      <td>True</td>\n",
       "    </tr>\n",
       "    <tr>\n",
       "      <th>112649</th>\n",
       "      <td>True</td>\n",
       "      <td>True</td>\n",
       "      <td>True</td>\n",
       "      <td>True</td>\n",
       "      <td>True</td>\n",
       "      <td>True</td>\n",
       "      <td>True</td>\n",
       "    </tr>\n",
       "  </tbody>\n",
       "</table>\n",
       "<p>112650 rows × 7 columns</p>\n",
       "</div>"
      ],
      "text/plain": [
       "        order_id  order_item_id  product_id  seller_id  pickup_limit_date  \\\n",
       "0           True           True        True       True               True   \n",
       "1           True           True        True       True               True   \n",
       "2           True           True        True       True               True   \n",
       "3           True           True        True       True               True   \n",
       "4           True           True        True       True               True   \n",
       "...          ...            ...         ...        ...                ...   \n",
       "112645      True           True        True       True               True   \n",
       "112646      True           True        True       True               True   \n",
       "112647      True           True        True       True               True   \n",
       "112648      True           True        True       True               True   \n",
       "112649      True           True        True       True               True   \n",
       "\n",
       "        price  shipping_cost  \n",
       "0        True           True  \n",
       "1        True           True  \n",
       "2        True           True  \n",
       "3        True           True  \n",
       "4        True           True  \n",
       "...       ...            ...  \n",
       "112645   True           True  \n",
       "112646   True           True  \n",
       "112647   True           True  \n",
       "112648   True           True  \n",
       "112649   True           True  \n",
       "\n",
       "[112650 rows x 7 columns]"
      ]
     },
     "execution_count": 12,
     "metadata": {},
     "output_type": "execute_result"
    }
   ],
   "source": [
    "df.notnull()"
   ]
  },
  {
   "cell_type": "code",
   "execution_count": 13,
   "id": "ac14e56a",
   "metadata": {},
   "outputs": [],
   "source": [
    "df = df.drop('order_id', axis=1)\n",
    "df = df.drop('order_item_id', axis=1)\n",
    "df = df.drop('product_id', axis=1)\n",
    "df = df.drop('seller_id', axis=1)\n"
   ]
  },
  {
   "cell_type": "code",
   "execution_count": 14,
   "id": "983510d5",
   "metadata": {},
   "outputs": [
    {
     "data": {
      "text/html": [
       "<div>\n",
       "<style scoped>\n",
       "    .dataframe tbody tr th:only-of-type {\n",
       "        vertical-align: middle;\n",
       "    }\n",
       "\n",
       "    .dataframe tbody tr th {\n",
       "        vertical-align: top;\n",
       "    }\n",
       "\n",
       "    .dataframe thead th {\n",
       "        text-align: right;\n",
       "    }\n",
       "</style>\n",
       "<table border=\"1\" class=\"dataframe\">\n",
       "  <thead>\n",
       "    <tr style=\"text-align: right;\">\n",
       "      <th></th>\n",
       "      <th>pickup_limit_date</th>\n",
       "      <th>price</th>\n",
       "      <th>shipping_cost</th>\n",
       "    </tr>\n",
       "  </thead>\n",
       "  <tbody>\n",
       "    <tr>\n",
       "      <th>0</th>\n",
       "      <td>2017-09-19 09:45:35</td>\n",
       "      <td>58900.0</td>\n",
       "      <td>13290.0</td>\n",
       "    </tr>\n",
       "    <tr>\n",
       "      <th>1</th>\n",
       "      <td>2017-05-03 11:05:13</td>\n",
       "      <td>239900.0</td>\n",
       "      <td>19930.0</td>\n",
       "    </tr>\n",
       "    <tr>\n",
       "      <th>2</th>\n",
       "      <td>2018-01-18 14:48:30</td>\n",
       "      <td>199000.0</td>\n",
       "      <td>17870.0</td>\n",
       "    </tr>\n",
       "    <tr>\n",
       "      <th>3</th>\n",
       "      <td>2018-08-15 10:10:18</td>\n",
       "      <td>12990.0</td>\n",
       "      <td>12790.0</td>\n",
       "    </tr>\n",
       "    <tr>\n",
       "      <th>4</th>\n",
       "      <td>2017-02-13 13:57:51</td>\n",
       "      <td>199900.0</td>\n",
       "      <td>18140.0</td>\n",
       "    </tr>\n",
       "  </tbody>\n",
       "</table>\n",
       "</div>"
      ],
      "text/plain": [
       "     pickup_limit_date     price  shipping_cost\n",
       "0  2017-09-19 09:45:35   58900.0        13290.0\n",
       "1  2017-05-03 11:05:13  239900.0        19930.0\n",
       "2  2018-01-18 14:48:30  199000.0        17870.0\n",
       "3  2018-08-15 10:10:18   12990.0        12790.0\n",
       "4  2017-02-13 13:57:51  199900.0        18140.0"
      ]
     },
     "execution_count": 14,
     "metadata": {},
     "output_type": "execute_result"
    }
   ],
   "source": [
    "df.head()"
   ]
  },
  {
   "cell_type": "code",
   "execution_count": 15,
   "id": "d991f1cc",
   "metadata": {},
   "outputs": [
    {
     "name": "stdout",
     "output_type": "stream",
     "text": [
      "<class 'pandas.core.frame.DataFrame'>\n",
      "RangeIndex: 112650 entries, 0 to 112649\n",
      "Data columns (total 3 columns):\n",
      " #   Column             Non-Null Count   Dtype  \n",
      "---  ------             --------------   -----  \n",
      " 0   pickup_limit_date  112650 non-null  object \n",
      " 1   price              112650 non-null  float64\n",
      " 2   shipping_cost      112650 non-null  float64\n",
      "dtypes: float64(2), object(1)\n",
      "memory usage: 2.6+ MB\n"
     ]
    }
   ],
   "source": [
    "df.info()"
   ]
  },
  {
   "cell_type": "code",
   "execution_count": 16,
   "id": "a9008f62",
   "metadata": {},
   "outputs": [],
   "source": [
    "# Split the 'feedback_answer_date' column into two columns: 'feedback_answer_full_date' and 'feedback_answer_time'\n",
    "df[['pickup_limit_date_datefull', 'pickup_limit_date_time']] = df['pickup_limit_date'].str.split(' ', expand=True)"
   ]
  },
  {
   "cell_type": "code",
   "execution_count": 17,
   "id": "72796bbb",
   "metadata": {},
   "outputs": [],
   "source": [
    "df = df.drop('pickup_limit_date_time', axis=1)"
   ]
  },
  {
   "cell_type": "code",
   "execution_count": 18,
   "id": "85cde9d4",
   "metadata": {},
   "outputs": [],
   "source": [
    "df = df.drop('pickup_limit_date', axis=1)"
   ]
  },
  {
   "cell_type": "code",
   "execution_count": 19,
   "id": "14b08cd7",
   "metadata": {},
   "outputs": [],
   "source": [
    "df['pickup_limit_date_datefull'] = pd.to_datetime(df['pickup_limit_date_datefull'])"
   ]
  },
  {
   "cell_type": "code",
   "execution_count": 20,
   "id": "45678169",
   "metadata": {},
   "outputs": [],
   "source": [
    "df = df.rename(columns={'pickup_limit_date_datefull': 'pickup_limit_date'})"
   ]
  },
  {
   "cell_type": "code",
   "execution_count": 21,
   "id": "6b18d494",
   "metadata": {},
   "outputs": [],
   "source": [
    "# altering the DataFrame\n",
    "df = df[['pickup_limit_date', 'price', 'shipping_cost']]"
   ]
  },
  {
   "cell_type": "code",
   "execution_count": 22,
   "id": "01edba69",
   "metadata": {},
   "outputs": [
    {
     "data": {
      "text/html": [
       "<div>\n",
       "<style scoped>\n",
       "    .dataframe tbody tr th:only-of-type {\n",
       "        vertical-align: middle;\n",
       "    }\n",
       "\n",
       "    .dataframe tbody tr th {\n",
       "        vertical-align: top;\n",
       "    }\n",
       "\n",
       "    .dataframe thead th {\n",
       "        text-align: right;\n",
       "    }\n",
       "</style>\n",
       "<table border=\"1\" class=\"dataframe\">\n",
       "  <thead>\n",
       "    <tr style=\"text-align: right;\">\n",
       "      <th></th>\n",
       "      <th>pickup_limit_date</th>\n",
       "      <th>price</th>\n",
       "      <th>shipping_cost</th>\n",
       "    </tr>\n",
       "  </thead>\n",
       "  <tbody>\n",
       "    <tr>\n",
       "      <th>0</th>\n",
       "      <td>2017-09-19</td>\n",
       "      <td>58900.0</td>\n",
       "      <td>13290.0</td>\n",
       "    </tr>\n",
       "    <tr>\n",
       "      <th>1</th>\n",
       "      <td>2017-05-03</td>\n",
       "      <td>239900.0</td>\n",
       "      <td>19930.0</td>\n",
       "    </tr>\n",
       "    <tr>\n",
       "      <th>2</th>\n",
       "      <td>2018-01-18</td>\n",
       "      <td>199000.0</td>\n",
       "      <td>17870.0</td>\n",
       "    </tr>\n",
       "    <tr>\n",
       "      <th>3</th>\n",
       "      <td>2018-08-15</td>\n",
       "      <td>12990.0</td>\n",
       "      <td>12790.0</td>\n",
       "    </tr>\n",
       "    <tr>\n",
       "      <th>4</th>\n",
       "      <td>2017-02-13</td>\n",
       "      <td>199900.0</td>\n",
       "      <td>18140.0</td>\n",
       "    </tr>\n",
       "  </tbody>\n",
       "</table>\n",
       "</div>"
      ],
      "text/plain": [
       "  pickup_limit_date     price  shipping_cost\n",
       "0        2017-09-19   58900.0        13290.0\n",
       "1        2017-05-03  239900.0        19930.0\n",
       "2        2018-01-18  199000.0        17870.0\n",
       "3        2018-08-15   12990.0        12790.0\n",
       "4        2017-02-13  199900.0        18140.0"
      ]
     },
     "execution_count": 22,
     "metadata": {},
     "output_type": "execute_result"
    }
   ],
   "source": [
    "df.head()"
   ]
  },
  {
   "cell_type": "code",
   "execution_count": 23,
   "id": "ffc5ac73",
   "metadata": {},
   "outputs": [],
   "source": [
    "# Export the DataFrame to a CSV file\n",
    "df.to_csv('sales.csv', index=False)"
   ]
  },
  {
   "cell_type": "code",
   "execution_count": 24,
   "id": "12c9ab02",
   "metadata": {},
   "outputs": [],
   "source": [
    "df1 = pd.read_csv('sales.csv')"
   ]
  },
  {
   "cell_type": "code",
   "execution_count": 25,
   "id": "70a9214d",
   "metadata": {},
   "outputs": [
    {
     "data": {
      "text/html": [
       "<div>\n",
       "<style scoped>\n",
       "    .dataframe tbody tr th:only-of-type {\n",
       "        vertical-align: middle;\n",
       "    }\n",
       "\n",
       "    .dataframe tbody tr th {\n",
       "        vertical-align: top;\n",
       "    }\n",
       "\n",
       "    .dataframe thead th {\n",
       "        text-align: right;\n",
       "    }\n",
       "</style>\n",
       "<table border=\"1\" class=\"dataframe\">\n",
       "  <thead>\n",
       "    <tr style=\"text-align: right;\">\n",
       "      <th></th>\n",
       "      <th>pickup_limit_date</th>\n",
       "      <th>price</th>\n",
       "      <th>shipping_cost</th>\n",
       "    </tr>\n",
       "  </thead>\n",
       "  <tbody>\n",
       "    <tr>\n",
       "      <th>0</th>\n",
       "      <td>2017-09-19</td>\n",
       "      <td>58900.0</td>\n",
       "      <td>13290.0</td>\n",
       "    </tr>\n",
       "    <tr>\n",
       "      <th>1</th>\n",
       "      <td>2017-05-03</td>\n",
       "      <td>239900.0</td>\n",
       "      <td>19930.0</td>\n",
       "    </tr>\n",
       "    <tr>\n",
       "      <th>2</th>\n",
       "      <td>2018-01-18</td>\n",
       "      <td>199000.0</td>\n",
       "      <td>17870.0</td>\n",
       "    </tr>\n",
       "    <tr>\n",
       "      <th>3</th>\n",
       "      <td>2018-08-15</td>\n",
       "      <td>12990.0</td>\n",
       "      <td>12790.0</td>\n",
       "    </tr>\n",
       "    <tr>\n",
       "      <th>4</th>\n",
       "      <td>2017-02-13</td>\n",
       "      <td>199900.0</td>\n",
       "      <td>18140.0</td>\n",
       "    </tr>\n",
       "  </tbody>\n",
       "</table>\n",
       "</div>"
      ],
      "text/plain": [
       "  pickup_limit_date     price  shipping_cost\n",
       "0        2017-09-19   58900.0        13290.0\n",
       "1        2017-05-03  239900.0        19930.0\n",
       "2        2018-01-18  199000.0        17870.0\n",
       "3        2018-08-15   12990.0        12790.0\n",
       "4        2017-02-13  199900.0        18140.0"
      ]
     },
     "execution_count": 25,
     "metadata": {},
     "output_type": "execute_result"
    }
   ],
   "source": [
    "df1.head()"
   ]
  },
  {
   "cell_type": "code",
   "execution_count": 31,
   "id": "ae328b51",
   "metadata": {},
   "outputs": [
    {
     "name": "stdout",
     "output_type": "stream",
     "text": [
      "<class 'pandas.core.frame.DataFrame'>\n",
      "RangeIndex: 112650 entries, 0 to 112649\n",
      "Data columns (total 3 columns):\n",
      " #   Column             Non-Null Count   Dtype         \n",
      "---  ------             --------------   -----         \n",
      " 0   pickup_limit_date  112650 non-null  datetime64[ns]\n",
      " 1   price              112650 non-null  float64       \n",
      " 2   shipping_cost      112650 non-null  float64       \n",
      "dtypes: datetime64[ns](1), float64(2)\n",
      "memory usage: 2.6 MB\n"
     ]
    }
   ],
   "source": [
    "df1.info()"
   ]
  },
  {
   "cell_type": "code",
   "execution_count": 30,
   "id": "6b4f239d",
   "metadata": {},
   "outputs": [],
   "source": [
    "df1['pickup_limit_date'] = pd.to_datetime(df1['pickup_limit_date'])"
   ]
  },
  {
   "cell_type": "code",
   "execution_count": 32,
   "id": "eb4b8bd8",
   "metadata": {},
   "outputs": [],
   "source": [
    "# Export the DataFrame to a CSV file\n",
    "df1.to_csv('sales2.csv', index=False)"
   ]
  },
  {
   "cell_type": "code",
   "execution_count": 33,
   "id": "394e8431",
   "metadata": {},
   "outputs": [],
   "source": [
    "df2=pd.read_csv('sales2.csv')"
   ]
  },
  {
   "cell_type": "code",
   "execution_count": 34,
   "id": "e1f68dce",
   "metadata": {},
   "outputs": [
    {
     "name": "stdout",
     "output_type": "stream",
     "text": [
      "<class 'pandas.core.frame.DataFrame'>\n",
      "RangeIndex: 112650 entries, 0 to 112649\n",
      "Data columns (total 3 columns):\n",
      " #   Column             Non-Null Count   Dtype  \n",
      "---  ------             --------------   -----  \n",
      " 0   pickup_limit_date  112650 non-null  object \n",
      " 1   price              112650 non-null  float64\n",
      " 2   shipping_cost      112650 non-null  float64\n",
      "dtypes: float64(2), object(1)\n",
      "memory usage: 2.6+ MB\n"
     ]
    }
   ],
   "source": [
    "df2.info()"
   ]
  },
  {
   "cell_type": "code",
   "execution_count": null,
   "id": "ac46d5c9",
   "metadata": {},
   "outputs": [],
   "source": []
  }
 ],
 "metadata": {
  "kernelspec": {
   "display_name": "Python 3 (ipykernel)",
   "language": "python",
   "name": "python3"
  },
  "language_info": {
   "codemirror_mode": {
    "name": "ipython",
    "version": 3
   },
   "file_extension": ".py",
   "mimetype": "text/x-python",
   "name": "python",
   "nbconvert_exporter": "python",
   "pygments_lexer": "ipython3",
   "version": "3.9.7"
  }
 },
 "nbformat": 4,
 "nbformat_minor": 5
}
